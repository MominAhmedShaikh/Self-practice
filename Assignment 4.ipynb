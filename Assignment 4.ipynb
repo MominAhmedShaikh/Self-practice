{
 "cells": [
  {
   "cell_type": "markdown",
   "id": "b52b7704",
   "metadata": {},
   "source": [
    "# Assignment 4"
   ]
  },
  {
   "cell_type": "markdown",
   "id": "488322d2",
   "metadata": {},
   "source": [
    "### Date : 06/08/2022"
   ]
  },
  {
   "cell_type": "markdown",
   "id": "0cabb0f5",
   "metadata": {},
   "source": [
    "### Q1. write a python code to check if it is palindrome or not. A string is said to be palindrome if the reverse of the string is the same as string.\n",
    "\n",
    "For eg: \n",
    "Input : AABBAA\n",
    "Output : Yes\n",
    "\n",
    "Input : ABCD\n",
    "Output : No"
   ]
  },
  {
   "cell_type": "code",
   "execution_count": 1,
   "id": "858054ae",
   "metadata": {},
   "outputs": [
    {
     "name": "stdout",
     "output_type": "stream",
     "text": [
      "it is palindrome\n"
     ]
    }
   ],
   "source": [
    "strings = '1mom1'\n",
    "if strings == strings[::-1]:\n",
    "    print('it is palindrome')\n",
    "else:\n",
    "    print('it is not palindrome')"
   ]
  },
  {
   "cell_type": "markdown",
   "id": "5a6d7701",
   "metadata": {},
   "source": [
    "### Q2. write a python code to calculate sum of odd number  less than 10."
   ]
  },
  {
   "cell_type": "code",
   "execution_count": 2,
   "id": "51fc5ffd",
   "metadata": {},
   "outputs": [
    {
     "data": {
      "text/plain": [
       "25"
      ]
     },
     "execution_count": 2,
     "metadata": {},
     "output_type": "execute_result"
    }
   ],
   "source": [
    "a = [x for x in range(0,11)]\n",
    "odd = [x for x in a if x%2 != 0]\n",
    "_sum_ = 0\n",
    "for i in range(0,len(odd)):\n",
    "    _sum_ = _sum_ + odd[i]\n",
    "_sum_"
   ]
  },
  {
   "cell_type": "markdown",
   "id": "c57965b8",
   "metadata": {},
   "source": [
    "### Q3. Write a Python Program to Check whether number is a Prime Number or not\n",
    "\n",
    "For eg: 2 - yes  ;\n",
    "        4 - No"
   ]
  },
  {
   "cell_type": "code",
   "execution_count": 3,
   "id": "81c8f662",
   "metadata": {},
   "outputs": [
    {
     "name": "stdout",
     "output_type": "stream",
     "text": [
      "7 prime\n"
     ]
    }
   ],
   "source": [
    "l = [7]\n",
    "for i in l:\n",
    "    if i%1 == 0:\n",
    "        if i%3 == 0:\n",
    "            if i==3:\n",
    "                print(i,'prime')\n",
    "                break\n",
    "            elif i==1:\n",
    "                print(i,'prime')\n",
    "            print(i,'not prime')\n",
    "        elif i%2 == 0:\n",
    "            if i == 2:\n",
    "                print(i,'prime')\n",
    "            else:\n",
    "                print(i,'not prime')\n",
    "        else:\n",
    "            print(i,'prime')"
   ]
  },
  {
   "cell_type": "markdown",
   "id": "81b9e544",
   "metadata": {},
   "source": [
    "### Q. 4 write a python code to check which number is divisible by 5 and if the number is divisible by 5 then check whether number is divisible by 20 or not. If divisible then print the list of number. \n",
    "\n",
    "Input = [ 10,20,30,40,50,60,70,80,90,100, 200,300,400,500,600,700,800,900,1000 ]"
   ]
  },
  {
   "cell_type": "code",
   "execution_count": 4,
   "id": "35ad8643",
   "metadata": {},
   "outputs": [
    {
     "name": "stdout",
     "output_type": "stream",
     "text": [
      "20  40  60  80  100  200  300  400  500  600  700  800  900  1000  "
     ]
    }
   ],
   "source": [
    "list1 = [10,20,30,40,50,60,70,80,90,100,200,300,400,500,600,700,800,900,1000]\n",
    "for i in list1:\n",
    "    if i%5==0:\n",
    "        if i%20 == 0:\n",
    "            print(i,end = '  ')"
   ]
  }
 ],
 "metadata": {
  "kernelspec": {
   "display_name": "Python 3 (ipykernel)",
   "language": "python",
   "name": "python3"
  },
  "language_info": {
   "codemirror_mode": {
    "name": "ipython",
    "version": 3
   },
   "file_extension": ".py",
   "mimetype": "text/x-python",
   "name": "python",
   "nbconvert_exporter": "python",
   "pygments_lexer": "ipython3",
   "version": "3.9.7"
  }
 },
 "nbformat": 4,
 "nbformat_minor": 5
}
