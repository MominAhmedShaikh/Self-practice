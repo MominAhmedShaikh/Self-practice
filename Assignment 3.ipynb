{
 "cells": [
  {
   "cell_type": "markdown",
   "id": "c5fa11fb",
   "metadata": {},
   "source": [
    "# Assignment 3"
   ]
  },
  {
   "cell_type": "markdown",
   "id": "7deff51f",
   "metadata": {},
   "source": [
    "### Date : 06/08/2022"
   ]
  },
  {
   "cell_type": "markdown",
   "id": "04fe3697",
   "metadata": {},
   "source": [
    "### 1. Take a strings of lenth 50 character and count the presence of each character and print the 2nd and 3 rd lowest and highest occurred/presence character.\n",
    "\n",
    "For eg. Given string \n",
    "x = \"The data scientist role combines computer science, statistics, and mathematics. They analyze, process, and model data and then interpret the results to create actionable plans for companies and other organizations. Data scientists are big data wranglers, gathering and analyzing large sets of structured and unstructured data\" "
   ]
  },
  {
   "cell_type": "code",
   "execution_count": 1,
   "id": "a201c0c4",
   "metadata": {},
   "outputs": [
    {
     "name": "stdout",
     "output_type": "stream",
     "text": [
      "T is third lowest with value count 2\n",
      "a is second highest with value count 34\n",
      "t is third highest with value count 31\n",
      ". is third lowest with value count 2\n",
      "f is third lowest with value count 2\n",
      "D is second lowest with value count 1\n",
      "w is second lowest with value count 1\n"
     ]
    }
   ],
   "source": [
    "x = \"The data scientist role combines computer science, statistics, and mathematics. They analyze, process, and model data and then interpret the results to create actionable plans for companies and other organizations. Data scientists are big data wranglers, gathering and analyzing large sets of structured and unstructured data\"\n",
    "c = {}\n",
    "count = 0\n",
    "count2 = 0\n",
    "for i in x:\n",
    "    for j in x:\n",
    "        if i in j:\n",
    "            c[i] = x.count(j)\n",
    "a = list(c.values())\n",
    "a = sorted(a)\n",
    "for i,j in zip(c.keys(),c.values()):\n",
    "    if j == a[1]:\n",
    "        print('{} is second lowest with value count {}'.format(i,j))\n",
    "    elif j == a[2]:\n",
    "        print('{} is third lowest with value count {}'.format(i,j))\n",
    "    elif j == a[-2]:\n",
    "        print('{} is second highest with value count {}'.format(i,j))\n",
    "    elif j == a[-3]:\n",
    "        print('{} is third highest with value count {}'.format(i,j))"
   ]
  },
  {
   "cell_type": "markdown",
   "id": "1c2bd514",
   "metadata": {},
   "source": [
    "### 2. Find the reverse the string without any inbuilt function / slicing techniques. ( Can use loop) \n",
    "\n",
    "X = \"ABCDE\"\n",
    "\n",
    "Output: \"EDCBA\""
   ]
  },
  {
   "cell_type": "code",
   "execution_count": 2,
   "id": "d49efa17",
   "metadata": {},
   "outputs": [
    {
     "data": {
      "text/plain": [
       "'nimom'"
      ]
     },
     "execution_count": 2,
     "metadata": {},
     "output_type": "execute_result"
    }
   ],
   "source": [
    "str_ = 'momin'\n",
    "rev_str = ''\n",
    "for i in str_:\n",
    "    rev_str = i + rev_str\n",
    "rev_str"
   ]
  }
 ],
 "metadata": {
  "kernelspec": {
   "display_name": "Python 3 (ipykernel)",
   "language": "python",
   "name": "python3"
  },
  "language_info": {
   "codemirror_mode": {
    "name": "ipython",
    "version": 3
   },
   "file_extension": ".py",
   "mimetype": "text/x-python",
   "name": "python",
   "nbconvert_exporter": "python",
   "pygments_lexer": "ipython3",
   "version": "3.9.7"
  }
 },
 "nbformat": 4,
 "nbformat_minor": 5
}
