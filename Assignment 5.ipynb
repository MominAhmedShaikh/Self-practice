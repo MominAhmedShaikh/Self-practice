{
 "cells": [
  {
   "cell_type": "markdown",
   "id": "6deaa463",
   "metadata": {},
   "source": [
    "# Assignment 5:"
   ]
  },
  {
   "cell_type": "markdown",
   "id": "a47dd571",
   "metadata": {},
   "source": [
    "### Date : 13/08/22"
   ]
  },
  {
   "cell_type": "markdown",
   "id": "4f6d0f45",
   "metadata": {},
   "source": [
    "### Qn 1 Write a program to find all occurrences of “USA” in a given string ignoring the case.\n",
    "X= \"Welcome to USA. usa awesome, isn't it?\"\n",
    "Output : The USA count is: 2"
   ]
  },
  {
   "cell_type": "code",
   "execution_count": 1,
   "id": "6b19d924",
   "metadata": {},
   "outputs": [
    {
     "data": {
      "text/plain": [
       "3"
      ]
     },
     "execution_count": 1,
     "metadata": {},
     "output_type": "execute_result"
    }
   ],
   "source": [
    "a = ['USA','Usa','usa'] # Enter word you want to count\n",
    "x = \"Welcome to USA . Usa awesome, isn't it usa ?\" # Enter sentence\n",
    "b = x.split(' ')\n",
    "c = {}\n",
    "for i in b:\n",
    "    if i in c:\n",
    "        c[i] = c[i]+1\n",
    "    else:\n",
    "        c[i] = 1\n",
    "\n",
    "        \n",
    "j = 0\n",
    "for i in a:\n",
    "    if i in c.keys():\n",
    "        j+=c[i]  \n",
    "        \n",
    "j        \n"
   ]
  },
  {
   "cell_type": "markdown",
   "id": "d0b9111c",
   "metadata": {},
   "source": [
    "### Qn2: write a program to return the sum and average of the digits that appear in the string, ignoring all other characters\n",
    "X= \"abcd29@efg#8496\"\n",
    "Output: Sum is: 38 Average is 6.33\n"
   ]
  },
  {
   "cell_type": "code",
   "execution_count": 2,
   "id": "ed15571c",
   "metadata": {},
   "outputs": [
    {
     "name": "stdout",
     "output_type": "stream",
     "text": [
      "the sum and average of all numbers in string abcd29@efg#8496 is 38 and 6.333333333333333 respectively\n"
     ]
    }
   ],
   "source": [
    "X = \"abcd29@efg#8496\"\n",
    "l = []\n",
    "k = 0\n",
    "for i in range(len(X)):\n",
    "    for j in X:\n",
    "        if str(i) == j:\n",
    "            l = l + [i]\n",
    "for i in l:\n",
    "    k+=i\n",
    "    \n",
    "print('the sum and average of all numbers in string {} is {} and {} respectively'.format(X,k,k/len(l)))"
   ]
  },
  {
   "cell_type": "markdown",
   "id": "900f5cf6",
   "metadata": {},
   "source": [
    "### Qn3: Write a program to find the last position of a substring “are” in a given string.\n",
    "\n",
    "X= \"As you know, the stings are widely used to hold textual data. To perform any programming tasks in Python, a good understanding of string manipulations are necessary\"\n",
    "Output: last index of \"are\" : 151"
   ]
  },
  {
   "cell_type": "code",
   "execution_count": 3,
   "id": "289a1ef8",
   "metadata": {},
   "outputs": [
    {
     "name": "stdout",
     "output_type": "stream",
     "text": [
      "last index of word are is 151\n"
     ]
    }
   ],
   "source": [
    "X = \"As you know, the stings are widely used to hold textual data. To perform any programming tasks in Python, a good understanding of string manipulations are necessary\"\n",
    "print('last index of word {} is {}'.format('are',X.rfind('are')))"
   ]
  }
 ],
 "metadata": {
  "kernelspec": {
   "display_name": "Python 3 (ipykernel)",
   "language": "python",
   "name": "python3"
  },
  "language_info": {
   "codemirror_mode": {
    "name": "ipython",
    "version": 3
   },
   "file_extension": ".py",
   "mimetype": "text/x-python",
   "name": "python",
   "nbconvert_exporter": "python",
   "pygments_lexer": "ipython3",
   "version": "3.9.7"
  }
 },
 "nbformat": 4,
 "nbformat_minor": 5
}
