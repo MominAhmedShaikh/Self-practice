{
 "cells": [
  {
   "cell_type": "markdown",
   "id": "5696f0a1",
   "metadata": {},
   "source": [
    "# Loan Case Study"
   ]
  },
  {
   "cell_type": "markdown",
   "id": "0fca5383",
   "metadata": {},
   "source": [
    "### AIM : \n",
    "This case study helps to identify defaulter and repayer for loan applicant by observing various factors from data recieves by banks. which can detriment the banks in two ways such as loss in business due to defaulters which are not able to repay the loan and deserving applicant who was able to repay the loan but due to bank's misinterpretation, bank is unable to give them loan.  "
   ]
  },
  {
   "cell_type": "markdown",
   "id": "96b646fb",
   "metadata": {},
   "source": [
    "## Task 1 : Importing python packages"
   ]
  },
  {
   "cell_type": "code",
   "execution_count": 1,
   "id": "d925d00d",
   "metadata": {},
   "outputs": [],
   "source": [
    "import pandas as pd\n",
    "import numpy as np\n",
    "import matplotlib.pyplot as plt\n",
    "import seaborn as sns\n",
    "import warnings \n",
    "warnings.filterwarnings('ignore')\n"
   ]
  },
  {
   "cell_type": "code",
   "execution_count": 2,
   "id": "4194c454",
   "metadata": {},
   "outputs": [],
   "source": [
    "# display setting for max columns to have more clearity on data\n",
    "pd.set_option('display.max_columns',None)"
   ]
  },
  {
   "cell_type": "markdown",
   "id": "0130de08",
   "metadata": {},
   "source": [
    "## Task 2 : Reading and Inspecting Data"
   ]
  },
  {
   "cell_type": "code",
   "execution_count": 3,
   "id": "ae67fd1b",
   "metadata": {},
   "outputs": [],
   "source": [
    "application = pd.read_csv('/Users/momin/Downloads/datasets/application_data.csv')\n",
    "previous = pd.read_csv('/Users/momin/Downloads/datasets/previous_application.csv')"
   ]
  },
  {
   "cell_type": "markdown",
   "id": "4e31fa85",
   "metadata": {},
   "source": [
    "### Subtask 2.1 : Application Data"
   ]
  },
  {
   "cell_type": "code",
   "execution_count": 4,
   "id": "108301c8",
   "metadata": {
    "scrolled": true
   },
   "outputs": [
    {
     "data": {
      "text/html": [
       "<div>\n",
       "<style scoped>\n",
       "    .dataframe tbody tr th:only-of-type {\n",
       "        vertical-align: middle;\n",
       "    }\n",
       "\n",
       "    .dataframe tbody tr th {\n",
       "        vertical-align: top;\n",
       "    }\n",
       "\n",
       "    .dataframe thead th {\n",
       "        text-align: right;\n",
       "    }\n",
       "</style>\n",
       "<table border=\"1\" class=\"dataframe\">\n",
       "  <thead>\n",
       "    <tr style=\"text-align: right;\">\n",
       "      <th></th>\n",
       "      <th>SK_ID_CURR</th>\n",
       "      <th>TARGET</th>\n",
       "      <th>NAME_CONTRACT_TYPE</th>\n",
       "      <th>CODE_GENDER</th>\n",
       "      <th>FLAG_OWN_CAR</th>\n",
       "      <th>FLAG_OWN_REALTY</th>\n",
       "      <th>CNT_CHILDREN</th>\n",
       "      <th>AMT_INCOME_TOTAL</th>\n",
       "      <th>AMT_CREDIT</th>\n",
       "      <th>AMT_ANNUITY</th>\n",
       "      <th>AMT_GOODS_PRICE</th>\n",
       "      <th>NAME_TYPE_SUITE</th>\n",
       "      <th>NAME_INCOME_TYPE</th>\n",
       "      <th>NAME_EDUCATION_TYPE</th>\n",
       "      <th>NAME_FAMILY_STATUS</th>\n",
       "      <th>NAME_HOUSING_TYPE</th>\n",
       "      <th>REGION_POPULATION_RELATIVE</th>\n",
       "      <th>DAYS_BIRTH</th>\n",
       "      <th>DAYS_EMPLOYED</th>\n",
       "      <th>DAYS_REGISTRATION</th>\n",
       "      <th>DAYS_ID_PUBLISH</th>\n",
       "      <th>OWN_CAR_AGE</th>\n",
       "      <th>FLAG_MOBIL</th>\n",
       "      <th>FLAG_EMP_PHONE</th>\n",
       "      <th>FLAG_WORK_PHONE</th>\n",
       "      <th>FLAG_CONT_MOBILE</th>\n",
       "      <th>FLAG_PHONE</th>\n",
       "      <th>FLAG_EMAIL</th>\n",
       "      <th>OCCUPATION_TYPE</th>\n",
       "      <th>CNT_FAM_MEMBERS</th>\n",
       "      <th>REGION_RATING_CLIENT</th>\n",
       "      <th>REGION_RATING_CLIENT_W_CITY</th>\n",
       "      <th>WEEKDAY_APPR_PROCESS_START</th>\n",
       "      <th>HOUR_APPR_PROCESS_START</th>\n",
       "      <th>REG_REGION_NOT_LIVE_REGION</th>\n",
       "      <th>REG_REGION_NOT_WORK_REGION</th>\n",
       "      <th>LIVE_REGION_NOT_WORK_REGION</th>\n",
       "      <th>REG_CITY_NOT_LIVE_CITY</th>\n",
       "      <th>REG_CITY_NOT_WORK_CITY</th>\n",
       "      <th>LIVE_CITY_NOT_WORK_CITY</th>\n",
       "      <th>ORGANIZATION_TYPE</th>\n",
       "      <th>EXT_SOURCE_1</th>\n",
       "      <th>EXT_SOURCE_2</th>\n",
       "      <th>EXT_SOURCE_3</th>\n",
       "      <th>APARTMENTS_AVG</th>\n",
       "      <th>BASEMENTAREA_AVG</th>\n",
       "      <th>YEARS_BEGINEXPLUATATION_AVG</th>\n",
       "      <th>YEARS_BUILD_AVG</th>\n",
       "      <th>COMMONAREA_AVG</th>\n",
       "      <th>ELEVATORS_AVG</th>\n",
       "      <th>ENTRANCES_AVG</th>\n",
       "      <th>FLOORSMAX_AVG</th>\n",
       "      <th>FLOORSMIN_AVG</th>\n",
       "      <th>LANDAREA_AVG</th>\n",
       "      <th>LIVINGAPARTMENTS_AVG</th>\n",
       "      <th>LIVINGAREA_AVG</th>\n",
       "      <th>NONLIVINGAPARTMENTS_AVG</th>\n",
       "      <th>NONLIVINGAREA_AVG</th>\n",
       "      <th>APARTMENTS_MODE</th>\n",
       "      <th>BASEMENTAREA_MODE</th>\n",
       "      <th>YEARS_BEGINEXPLUATATION_MODE</th>\n",
       "      <th>YEARS_BUILD_MODE</th>\n",
       "      <th>COMMONAREA_MODE</th>\n",
       "      <th>ELEVATORS_MODE</th>\n",
       "      <th>ENTRANCES_MODE</th>\n",
       "      <th>FLOORSMAX_MODE</th>\n",
       "      <th>FLOORSMIN_MODE</th>\n",
       "      <th>LANDAREA_MODE</th>\n",
       "      <th>LIVINGAPARTMENTS_MODE</th>\n",
       "      <th>LIVINGAREA_MODE</th>\n",
       "      <th>NONLIVINGAPARTMENTS_MODE</th>\n",
       "      <th>NONLIVINGAREA_MODE</th>\n",
       "      <th>APARTMENTS_MEDI</th>\n",
       "      <th>BASEMENTAREA_MEDI</th>\n",
       "      <th>YEARS_BEGINEXPLUATATION_MEDI</th>\n",
       "      <th>YEARS_BUILD_MEDI</th>\n",
       "      <th>COMMONAREA_MEDI</th>\n",
       "      <th>ELEVATORS_MEDI</th>\n",
       "      <th>ENTRANCES_MEDI</th>\n",
       "      <th>FLOORSMAX_MEDI</th>\n",
       "      <th>FLOORSMIN_MEDI</th>\n",
       "      <th>LANDAREA_MEDI</th>\n",
       "      <th>LIVINGAPARTMENTS_MEDI</th>\n",
       "      <th>LIVINGAREA_MEDI</th>\n",
       "      <th>NONLIVINGAPARTMENTS_MEDI</th>\n",
       "      <th>NONLIVINGAREA_MEDI</th>\n",
       "      <th>FONDKAPREMONT_MODE</th>\n",
       "      <th>HOUSETYPE_MODE</th>\n",
       "      <th>TOTALAREA_MODE</th>\n",
       "      <th>WALLSMATERIAL_MODE</th>\n",
       "      <th>EMERGENCYSTATE_MODE</th>\n",
       "      <th>OBS_30_CNT_SOCIAL_CIRCLE</th>\n",
       "      <th>DEF_30_CNT_SOCIAL_CIRCLE</th>\n",
       "      <th>OBS_60_CNT_SOCIAL_CIRCLE</th>\n",
       "      <th>DEF_60_CNT_SOCIAL_CIRCLE</th>\n",
       "      <th>DAYS_LAST_PHONE_CHANGE</th>\n",
       "      <th>FLAG_DOCUMENT_2</th>\n",
       "      <th>FLAG_DOCUMENT_3</th>\n",
       "      <th>FLAG_DOCUMENT_4</th>\n",
       "      <th>FLAG_DOCUMENT_5</th>\n",
       "      <th>FLAG_DOCUMENT_6</th>\n",
       "      <th>FLAG_DOCUMENT_7</th>\n",
       "      <th>FLAG_DOCUMENT_8</th>\n",
       "      <th>FLAG_DOCUMENT_9</th>\n",
       "      <th>FLAG_DOCUMENT_10</th>\n",
       "      <th>FLAG_DOCUMENT_11</th>\n",
       "      <th>FLAG_DOCUMENT_12</th>\n",
       "      <th>FLAG_DOCUMENT_13</th>\n",
       "      <th>FLAG_DOCUMENT_14</th>\n",
       "      <th>FLAG_DOCUMENT_15</th>\n",
       "      <th>FLAG_DOCUMENT_16</th>\n",
       "      <th>FLAG_DOCUMENT_17</th>\n",
       "      <th>FLAG_DOCUMENT_18</th>\n",
       "      <th>FLAG_DOCUMENT_19</th>\n",
       "      <th>FLAG_DOCUMENT_20</th>\n",
       "      <th>FLAG_DOCUMENT_21</th>\n",
       "      <th>AMT_REQ_CREDIT_BUREAU_HOUR</th>\n",
       "      <th>AMT_REQ_CREDIT_BUREAU_DAY</th>\n",
       "      <th>AMT_REQ_CREDIT_BUREAU_WEEK</th>\n",
       "      <th>AMT_REQ_CREDIT_BUREAU_MON</th>\n",
       "      <th>AMT_REQ_CREDIT_BUREAU_QRT</th>\n",
       "      <th>AMT_REQ_CREDIT_BUREAU_YEAR</th>\n",
       "    </tr>\n",
       "  </thead>\n",
       "  <tbody>\n",
       "    <tr>\n",
       "      <th>0</th>\n",
       "      <td>100002</td>\n",
       "      <td>1</td>\n",
       "      <td>Cash loans</td>\n",
       "      <td>M</td>\n",
       "      <td>N</td>\n",
       "      <td>Y</td>\n",
       "      <td>0</td>\n",
       "      <td>202500.0</td>\n",
       "      <td>406597.5</td>\n",
       "      <td>24700.5</td>\n",
       "      <td>351000.0</td>\n",
       "      <td>Unaccompanied</td>\n",
       "      <td>Working</td>\n",
       "      <td>Secondary / secondary special</td>\n",
       "      <td>Single / not married</td>\n",
       "      <td>House / apartment</td>\n",
       "      <td>0.018801</td>\n",
       "      <td>-9461</td>\n",
       "      <td>-637</td>\n",
       "      <td>-3648.0</td>\n",
       "      <td>-2120</td>\n",
       "      <td>NaN</td>\n",
       "      <td>1</td>\n",
       "      <td>1</td>\n",
       "      <td>0</td>\n",
       "      <td>1</td>\n",
       "      <td>1</td>\n",
       "      <td>0</td>\n",
       "      <td>Laborers</td>\n",
       "      <td>1.0</td>\n",
       "      <td>2</td>\n",
       "      <td>2</td>\n",
       "      <td>WEDNESDAY</td>\n",
       "      <td>10</td>\n",
       "      <td>0</td>\n",
       "      <td>0</td>\n",
       "      <td>0</td>\n",
       "      <td>0</td>\n",
       "      <td>0</td>\n",
       "      <td>0</td>\n",
       "      <td>Business Entity Type 3</td>\n",
       "      <td>0.083037</td>\n",
       "      <td>0.262949</td>\n",
       "      <td>0.139376</td>\n",
       "      <td>0.0247</td>\n",
       "      <td>0.0369</td>\n",
       "      <td>0.9722</td>\n",
       "      <td>0.6192</td>\n",
       "      <td>0.0143</td>\n",
       "      <td>0.00</td>\n",
       "      <td>0.0690</td>\n",
       "      <td>0.0833</td>\n",
       "      <td>0.1250</td>\n",
       "      <td>0.0369</td>\n",
       "      <td>0.0202</td>\n",
       "      <td>0.0190</td>\n",
       "      <td>0.0000</td>\n",
       "      <td>0.0000</td>\n",
       "      <td>0.0252</td>\n",
       "      <td>0.0383</td>\n",
       "      <td>0.9722</td>\n",
       "      <td>0.6341</td>\n",
       "      <td>0.0144</td>\n",
       "      <td>0.0000</td>\n",
       "      <td>0.0690</td>\n",
       "      <td>0.0833</td>\n",
       "      <td>0.1250</td>\n",
       "      <td>0.0377</td>\n",
       "      <td>0.022</td>\n",
       "      <td>0.0198</td>\n",
       "      <td>0.0</td>\n",
       "      <td>0.0</td>\n",
       "      <td>0.0250</td>\n",
       "      <td>0.0369</td>\n",
       "      <td>0.9722</td>\n",
       "      <td>0.6243</td>\n",
       "      <td>0.0144</td>\n",
       "      <td>0.00</td>\n",
       "      <td>0.0690</td>\n",
       "      <td>0.0833</td>\n",
       "      <td>0.1250</td>\n",
       "      <td>0.0375</td>\n",
       "      <td>0.0205</td>\n",
       "      <td>0.0193</td>\n",
       "      <td>0.0000</td>\n",
       "      <td>0.00</td>\n",
       "      <td>reg oper account</td>\n",
       "      <td>block of flats</td>\n",
       "      <td>0.0149</td>\n",
       "      <td>Stone, brick</td>\n",
       "      <td>No</td>\n",
       "      <td>2.0</td>\n",
       "      <td>2.0</td>\n",
       "      <td>2.0</td>\n",
       "      <td>2.0</td>\n",
       "      <td>-1134.0</td>\n",
       "      <td>0</td>\n",
       "      <td>1</td>\n",
       "      <td>0</td>\n",
       "      <td>0</td>\n",
       "      <td>0</td>\n",
       "      <td>0</td>\n",
       "      <td>0</td>\n",
       "      <td>0</td>\n",
       "      <td>0</td>\n",
       "      <td>0</td>\n",
       "      <td>0</td>\n",
       "      <td>0</td>\n",
       "      <td>0</td>\n",
       "      <td>0</td>\n",
       "      <td>0</td>\n",
       "      <td>0</td>\n",
       "      <td>0</td>\n",
       "      <td>0</td>\n",
       "      <td>0</td>\n",
       "      <td>0</td>\n",
       "      <td>0.0</td>\n",
       "      <td>0.0</td>\n",
       "      <td>0.0</td>\n",
       "      <td>0.0</td>\n",
       "      <td>0.0</td>\n",
       "      <td>1.0</td>\n",
       "    </tr>\n",
       "    <tr>\n",
       "      <th>1</th>\n",
       "      <td>100003</td>\n",
       "      <td>0</td>\n",
       "      <td>Cash loans</td>\n",
       "      <td>F</td>\n",
       "      <td>N</td>\n",
       "      <td>N</td>\n",
       "      <td>0</td>\n",
       "      <td>270000.0</td>\n",
       "      <td>1293502.5</td>\n",
       "      <td>35698.5</td>\n",
       "      <td>1129500.0</td>\n",
       "      <td>Family</td>\n",
       "      <td>State servant</td>\n",
       "      <td>Higher education</td>\n",
       "      <td>Married</td>\n",
       "      <td>House / apartment</td>\n",
       "      <td>0.003541</td>\n",
       "      <td>-16765</td>\n",
       "      <td>-1188</td>\n",
       "      <td>-1186.0</td>\n",
       "      <td>-291</td>\n",
       "      <td>NaN</td>\n",
       "      <td>1</td>\n",
       "      <td>1</td>\n",
       "      <td>0</td>\n",
       "      <td>1</td>\n",
       "      <td>1</td>\n",
       "      <td>0</td>\n",
       "      <td>Core staff</td>\n",
       "      <td>2.0</td>\n",
       "      <td>1</td>\n",
       "      <td>1</td>\n",
       "      <td>MONDAY</td>\n",
       "      <td>11</td>\n",
       "      <td>0</td>\n",
       "      <td>0</td>\n",
       "      <td>0</td>\n",
       "      <td>0</td>\n",
       "      <td>0</td>\n",
       "      <td>0</td>\n",
       "      <td>School</td>\n",
       "      <td>0.311267</td>\n",
       "      <td>0.622246</td>\n",
       "      <td>NaN</td>\n",
       "      <td>0.0959</td>\n",
       "      <td>0.0529</td>\n",
       "      <td>0.9851</td>\n",
       "      <td>0.7960</td>\n",
       "      <td>0.0605</td>\n",
       "      <td>0.08</td>\n",
       "      <td>0.0345</td>\n",
       "      <td>0.2917</td>\n",
       "      <td>0.3333</td>\n",
       "      <td>0.0130</td>\n",
       "      <td>0.0773</td>\n",
       "      <td>0.0549</td>\n",
       "      <td>0.0039</td>\n",
       "      <td>0.0098</td>\n",
       "      <td>0.0924</td>\n",
       "      <td>0.0538</td>\n",
       "      <td>0.9851</td>\n",
       "      <td>0.8040</td>\n",
       "      <td>0.0497</td>\n",
       "      <td>0.0806</td>\n",
       "      <td>0.0345</td>\n",
       "      <td>0.2917</td>\n",
       "      <td>0.3333</td>\n",
       "      <td>0.0128</td>\n",
       "      <td>0.079</td>\n",
       "      <td>0.0554</td>\n",
       "      <td>0.0</td>\n",
       "      <td>0.0</td>\n",
       "      <td>0.0968</td>\n",
       "      <td>0.0529</td>\n",
       "      <td>0.9851</td>\n",
       "      <td>0.7987</td>\n",
       "      <td>0.0608</td>\n",
       "      <td>0.08</td>\n",
       "      <td>0.0345</td>\n",
       "      <td>0.2917</td>\n",
       "      <td>0.3333</td>\n",
       "      <td>0.0132</td>\n",
       "      <td>0.0787</td>\n",
       "      <td>0.0558</td>\n",
       "      <td>0.0039</td>\n",
       "      <td>0.01</td>\n",
       "      <td>reg oper account</td>\n",
       "      <td>block of flats</td>\n",
       "      <td>0.0714</td>\n",
       "      <td>Block</td>\n",
       "      <td>No</td>\n",
       "      <td>1.0</td>\n",
       "      <td>0.0</td>\n",
       "      <td>1.0</td>\n",
       "      <td>0.0</td>\n",
       "      <td>-828.0</td>\n",
       "      <td>0</td>\n",
       "      <td>1</td>\n",
       "      <td>0</td>\n",
       "      <td>0</td>\n",
       "      <td>0</td>\n",
       "      <td>0</td>\n",
       "      <td>0</td>\n",
       "      <td>0</td>\n",
       "      <td>0</td>\n",
       "      <td>0</td>\n",
       "      <td>0</td>\n",
       "      <td>0</td>\n",
       "      <td>0</td>\n",
       "      <td>0</td>\n",
       "      <td>0</td>\n",
       "      <td>0</td>\n",
       "      <td>0</td>\n",
       "      <td>0</td>\n",
       "      <td>0</td>\n",
       "      <td>0</td>\n",
       "      <td>0.0</td>\n",
       "      <td>0.0</td>\n",
       "      <td>0.0</td>\n",
       "      <td>0.0</td>\n",
       "      <td>0.0</td>\n",
       "      <td>0.0</td>\n",
       "    </tr>\n",
       "    <tr>\n",
       "      <th>2</th>\n",
       "      <td>100004</td>\n",
       "      <td>0</td>\n",
       "      <td>Revolving loans</td>\n",
       "      <td>M</td>\n",
       "      <td>Y</td>\n",
       "      <td>Y</td>\n",
       "      <td>0</td>\n",
       "      <td>67500.0</td>\n",
       "      <td>135000.0</td>\n",
       "      <td>6750.0</td>\n",
       "      <td>135000.0</td>\n",
       "      <td>Unaccompanied</td>\n",
       "      <td>Working</td>\n",
       "      <td>Secondary / secondary special</td>\n",
       "      <td>Single / not married</td>\n",
       "      <td>House / apartment</td>\n",
       "      <td>0.010032</td>\n",
       "      <td>-19046</td>\n",
       "      <td>-225</td>\n",
       "      <td>-4260.0</td>\n",
       "      <td>-2531</td>\n",
       "      <td>26.0</td>\n",
       "      <td>1</td>\n",
       "      <td>1</td>\n",
       "      <td>1</td>\n",
       "      <td>1</td>\n",
       "      <td>1</td>\n",
       "      <td>0</td>\n",
       "      <td>Laborers</td>\n",
       "      <td>1.0</td>\n",
       "      <td>2</td>\n",
       "      <td>2</td>\n",
       "      <td>MONDAY</td>\n",
       "      <td>9</td>\n",
       "      <td>0</td>\n",
       "      <td>0</td>\n",
       "      <td>0</td>\n",
       "      <td>0</td>\n",
       "      <td>0</td>\n",
       "      <td>0</td>\n",
       "      <td>Government</td>\n",
       "      <td>NaN</td>\n",
       "      <td>0.555912</td>\n",
       "      <td>0.729567</td>\n",
       "      <td>NaN</td>\n",
       "      <td>NaN</td>\n",
       "      <td>NaN</td>\n",
       "      <td>NaN</td>\n",
       "      <td>NaN</td>\n",
       "      <td>NaN</td>\n",
       "      <td>NaN</td>\n",
       "      <td>NaN</td>\n",
       "      <td>NaN</td>\n",
       "      <td>NaN</td>\n",
       "      <td>NaN</td>\n",
       "      <td>NaN</td>\n",
       "      <td>NaN</td>\n",
       "      <td>NaN</td>\n",
       "      <td>NaN</td>\n",
       "      <td>NaN</td>\n",
       "      <td>NaN</td>\n",
       "      <td>NaN</td>\n",
       "      <td>NaN</td>\n",
       "      <td>NaN</td>\n",
       "      <td>NaN</td>\n",
       "      <td>NaN</td>\n",
       "      <td>NaN</td>\n",
       "      <td>NaN</td>\n",
       "      <td>NaN</td>\n",
       "      <td>NaN</td>\n",
       "      <td>NaN</td>\n",
       "      <td>NaN</td>\n",
       "      <td>NaN</td>\n",
       "      <td>NaN</td>\n",
       "      <td>NaN</td>\n",
       "      <td>NaN</td>\n",
       "      <td>NaN</td>\n",
       "      <td>NaN</td>\n",
       "      <td>NaN</td>\n",
       "      <td>NaN</td>\n",
       "      <td>NaN</td>\n",
       "      <td>NaN</td>\n",
       "      <td>NaN</td>\n",
       "      <td>NaN</td>\n",
       "      <td>NaN</td>\n",
       "      <td>NaN</td>\n",
       "      <td>NaN</td>\n",
       "      <td>NaN</td>\n",
       "      <td>NaN</td>\n",
       "      <td>NaN</td>\n",
       "      <td>NaN</td>\n",
       "      <td>0.0</td>\n",
       "      <td>0.0</td>\n",
       "      <td>0.0</td>\n",
       "      <td>0.0</td>\n",
       "      <td>-815.0</td>\n",
       "      <td>0</td>\n",
       "      <td>0</td>\n",
       "      <td>0</td>\n",
       "      <td>0</td>\n",
       "      <td>0</td>\n",
       "      <td>0</td>\n",
       "      <td>0</td>\n",
       "      <td>0</td>\n",
       "      <td>0</td>\n",
       "      <td>0</td>\n",
       "      <td>0</td>\n",
       "      <td>0</td>\n",
       "      <td>0</td>\n",
       "      <td>0</td>\n",
       "      <td>0</td>\n",
       "      <td>0</td>\n",
       "      <td>0</td>\n",
       "      <td>0</td>\n",
       "      <td>0</td>\n",
       "      <td>0</td>\n",
       "      <td>0.0</td>\n",
       "      <td>0.0</td>\n",
       "      <td>0.0</td>\n",
       "      <td>0.0</td>\n",
       "      <td>0.0</td>\n",
       "      <td>0.0</td>\n",
       "    </tr>\n",
       "    <tr>\n",
       "      <th>3</th>\n",
       "      <td>100006</td>\n",
       "      <td>0</td>\n",
       "      <td>Cash loans</td>\n",
       "      <td>F</td>\n",
       "      <td>N</td>\n",
       "      <td>Y</td>\n",
       "      <td>0</td>\n",
       "      <td>135000.0</td>\n",
       "      <td>312682.5</td>\n",
       "      <td>29686.5</td>\n",
       "      <td>297000.0</td>\n",
       "      <td>Unaccompanied</td>\n",
       "      <td>Working</td>\n",
       "      <td>Secondary / secondary special</td>\n",
       "      <td>Civil marriage</td>\n",
       "      <td>House / apartment</td>\n",
       "      <td>0.008019</td>\n",
       "      <td>-19005</td>\n",
       "      <td>-3039</td>\n",
       "      <td>-9833.0</td>\n",
       "      <td>-2437</td>\n",
       "      <td>NaN</td>\n",
       "      <td>1</td>\n",
       "      <td>1</td>\n",
       "      <td>0</td>\n",
       "      <td>1</td>\n",
       "      <td>0</td>\n",
       "      <td>0</td>\n",
       "      <td>Laborers</td>\n",
       "      <td>2.0</td>\n",
       "      <td>2</td>\n",
       "      <td>2</td>\n",
       "      <td>WEDNESDAY</td>\n",
       "      <td>17</td>\n",
       "      <td>0</td>\n",
       "      <td>0</td>\n",
       "      <td>0</td>\n",
       "      <td>0</td>\n",
       "      <td>0</td>\n",
       "      <td>0</td>\n",
       "      <td>Business Entity Type 3</td>\n",
       "      <td>NaN</td>\n",
       "      <td>0.650442</td>\n",
       "      <td>NaN</td>\n",
       "      <td>NaN</td>\n",
       "      <td>NaN</td>\n",
       "      <td>NaN</td>\n",
       "      <td>NaN</td>\n",
       "      <td>NaN</td>\n",
       "      <td>NaN</td>\n",
       "      <td>NaN</td>\n",
       "      <td>NaN</td>\n",
       "      <td>NaN</td>\n",
       "      <td>NaN</td>\n",
       "      <td>NaN</td>\n",
       "      <td>NaN</td>\n",
       "      <td>NaN</td>\n",
       "      <td>NaN</td>\n",
       "      <td>NaN</td>\n",
       "      <td>NaN</td>\n",
       "      <td>NaN</td>\n",
       "      <td>NaN</td>\n",
       "      <td>NaN</td>\n",
       "      <td>NaN</td>\n",
       "      <td>NaN</td>\n",
       "      <td>NaN</td>\n",
       "      <td>NaN</td>\n",
       "      <td>NaN</td>\n",
       "      <td>NaN</td>\n",
       "      <td>NaN</td>\n",
       "      <td>NaN</td>\n",
       "      <td>NaN</td>\n",
       "      <td>NaN</td>\n",
       "      <td>NaN</td>\n",
       "      <td>NaN</td>\n",
       "      <td>NaN</td>\n",
       "      <td>NaN</td>\n",
       "      <td>NaN</td>\n",
       "      <td>NaN</td>\n",
       "      <td>NaN</td>\n",
       "      <td>NaN</td>\n",
       "      <td>NaN</td>\n",
       "      <td>NaN</td>\n",
       "      <td>NaN</td>\n",
       "      <td>NaN</td>\n",
       "      <td>NaN</td>\n",
       "      <td>NaN</td>\n",
       "      <td>NaN</td>\n",
       "      <td>NaN</td>\n",
       "      <td>NaN</td>\n",
       "      <td>NaN</td>\n",
       "      <td>2.0</td>\n",
       "      <td>0.0</td>\n",
       "      <td>2.0</td>\n",
       "      <td>0.0</td>\n",
       "      <td>-617.0</td>\n",
       "      <td>0</td>\n",
       "      <td>1</td>\n",
       "      <td>0</td>\n",
       "      <td>0</td>\n",
       "      <td>0</td>\n",
       "      <td>0</td>\n",
       "      <td>0</td>\n",
       "      <td>0</td>\n",
       "      <td>0</td>\n",
       "      <td>0</td>\n",
       "      <td>0</td>\n",
       "      <td>0</td>\n",
       "      <td>0</td>\n",
       "      <td>0</td>\n",
       "      <td>0</td>\n",
       "      <td>0</td>\n",
       "      <td>0</td>\n",
       "      <td>0</td>\n",
       "      <td>0</td>\n",
       "      <td>0</td>\n",
       "      <td>NaN</td>\n",
       "      <td>NaN</td>\n",
       "      <td>NaN</td>\n",
       "      <td>NaN</td>\n",
       "      <td>NaN</td>\n",
       "      <td>NaN</td>\n",
       "    </tr>\n",
       "    <tr>\n",
       "      <th>4</th>\n",
       "      <td>100007</td>\n",
       "      <td>0</td>\n",
       "      <td>Cash loans</td>\n",
       "      <td>M</td>\n",
       "      <td>N</td>\n",
       "      <td>Y</td>\n",
       "      <td>0</td>\n",
       "      <td>121500.0</td>\n",
       "      <td>513000.0</td>\n",
       "      <td>21865.5</td>\n",
       "      <td>513000.0</td>\n",
       "      <td>Unaccompanied</td>\n",
       "      <td>Working</td>\n",
       "      <td>Secondary / secondary special</td>\n",
       "      <td>Single / not married</td>\n",
       "      <td>House / apartment</td>\n",
       "      <td>0.028663</td>\n",
       "      <td>-19932</td>\n",
       "      <td>-3038</td>\n",
       "      <td>-4311.0</td>\n",
       "      <td>-3458</td>\n",
       "      <td>NaN</td>\n",
       "      <td>1</td>\n",
       "      <td>1</td>\n",
       "      <td>0</td>\n",
       "      <td>1</td>\n",
       "      <td>0</td>\n",
       "      <td>0</td>\n",
       "      <td>Core staff</td>\n",
       "      <td>1.0</td>\n",
       "      <td>2</td>\n",
       "      <td>2</td>\n",
       "      <td>THURSDAY</td>\n",
       "      <td>11</td>\n",
       "      <td>0</td>\n",
       "      <td>0</td>\n",
       "      <td>0</td>\n",
       "      <td>0</td>\n",
       "      <td>1</td>\n",
       "      <td>1</td>\n",
       "      <td>Religion</td>\n",
       "      <td>NaN</td>\n",
       "      <td>0.322738</td>\n",
       "      <td>NaN</td>\n",
       "      <td>NaN</td>\n",
       "      <td>NaN</td>\n",
       "      <td>NaN</td>\n",
       "      <td>NaN</td>\n",
       "      <td>NaN</td>\n",
       "      <td>NaN</td>\n",
       "      <td>NaN</td>\n",
       "      <td>NaN</td>\n",
       "      <td>NaN</td>\n",
       "      <td>NaN</td>\n",
       "      <td>NaN</td>\n",
       "      <td>NaN</td>\n",
       "      <td>NaN</td>\n",
       "      <td>NaN</td>\n",
       "      <td>NaN</td>\n",
       "      <td>NaN</td>\n",
       "      <td>NaN</td>\n",
       "      <td>NaN</td>\n",
       "      <td>NaN</td>\n",
       "      <td>NaN</td>\n",
       "      <td>NaN</td>\n",
       "      <td>NaN</td>\n",
       "      <td>NaN</td>\n",
       "      <td>NaN</td>\n",
       "      <td>NaN</td>\n",
       "      <td>NaN</td>\n",
       "      <td>NaN</td>\n",
       "      <td>NaN</td>\n",
       "      <td>NaN</td>\n",
       "      <td>NaN</td>\n",
       "      <td>NaN</td>\n",
       "      <td>NaN</td>\n",
       "      <td>NaN</td>\n",
       "      <td>NaN</td>\n",
       "      <td>NaN</td>\n",
       "      <td>NaN</td>\n",
       "      <td>NaN</td>\n",
       "      <td>NaN</td>\n",
       "      <td>NaN</td>\n",
       "      <td>NaN</td>\n",
       "      <td>NaN</td>\n",
       "      <td>NaN</td>\n",
       "      <td>NaN</td>\n",
       "      <td>NaN</td>\n",
       "      <td>NaN</td>\n",
       "      <td>NaN</td>\n",
       "      <td>NaN</td>\n",
       "      <td>0.0</td>\n",
       "      <td>0.0</td>\n",
       "      <td>0.0</td>\n",
       "      <td>0.0</td>\n",
       "      <td>-1106.0</td>\n",
       "      <td>0</td>\n",
       "      <td>0</td>\n",
       "      <td>0</td>\n",
       "      <td>0</td>\n",
       "      <td>0</td>\n",
       "      <td>0</td>\n",
       "      <td>1</td>\n",
       "      <td>0</td>\n",
       "      <td>0</td>\n",
       "      <td>0</td>\n",
       "      <td>0</td>\n",
       "      <td>0</td>\n",
       "      <td>0</td>\n",
       "      <td>0</td>\n",
       "      <td>0</td>\n",
       "      <td>0</td>\n",
       "      <td>0</td>\n",
       "      <td>0</td>\n",
       "      <td>0</td>\n",
       "      <td>0</td>\n",
       "      <td>0.0</td>\n",
       "      <td>0.0</td>\n",
       "      <td>0.0</td>\n",
       "      <td>0.0</td>\n",
       "      <td>0.0</td>\n",
       "      <td>0.0</td>\n",
       "    </tr>\n",
       "  </tbody>\n",
       "</table>\n",
       "</div>"
      ],
      "text/plain": [
       "   SK_ID_CURR  TARGET NAME_CONTRACT_TYPE CODE_GENDER FLAG_OWN_CAR  \\\n",
       "0      100002       1         Cash loans           M            N   \n",
       "1      100003       0         Cash loans           F            N   \n",
       "2      100004       0    Revolving loans           M            Y   \n",
       "3      100006       0         Cash loans           F            N   \n",
       "4      100007       0         Cash loans           M            N   \n",
       "\n",
       "  FLAG_OWN_REALTY  CNT_CHILDREN  AMT_INCOME_TOTAL  AMT_CREDIT  AMT_ANNUITY  \\\n",
       "0               Y             0          202500.0    406597.5      24700.5   \n",
       "1               N             0          270000.0   1293502.5      35698.5   \n",
       "2               Y             0           67500.0    135000.0       6750.0   \n",
       "3               Y             0          135000.0    312682.5      29686.5   \n",
       "4               Y             0          121500.0    513000.0      21865.5   \n",
       "\n",
       "   AMT_GOODS_PRICE NAME_TYPE_SUITE NAME_INCOME_TYPE  \\\n",
       "0         351000.0   Unaccompanied          Working   \n",
       "1        1129500.0          Family    State servant   \n",
       "2         135000.0   Unaccompanied          Working   \n",
       "3         297000.0   Unaccompanied          Working   \n",
       "4         513000.0   Unaccompanied          Working   \n",
       "\n",
       "             NAME_EDUCATION_TYPE    NAME_FAMILY_STATUS  NAME_HOUSING_TYPE  \\\n",
       "0  Secondary / secondary special  Single / not married  House / apartment   \n",
       "1               Higher education               Married  House / apartment   \n",
       "2  Secondary / secondary special  Single / not married  House / apartment   \n",
       "3  Secondary / secondary special        Civil marriage  House / apartment   \n",
       "4  Secondary / secondary special  Single / not married  House / apartment   \n",
       "\n",
       "   REGION_POPULATION_RELATIVE  DAYS_BIRTH  DAYS_EMPLOYED  DAYS_REGISTRATION  \\\n",
       "0                    0.018801       -9461           -637            -3648.0   \n",
       "1                    0.003541      -16765          -1188            -1186.0   \n",
       "2                    0.010032      -19046           -225            -4260.0   \n",
       "3                    0.008019      -19005          -3039            -9833.0   \n",
       "4                    0.028663      -19932          -3038            -4311.0   \n",
       "\n",
       "   DAYS_ID_PUBLISH  OWN_CAR_AGE  FLAG_MOBIL  FLAG_EMP_PHONE  FLAG_WORK_PHONE  \\\n",
       "0            -2120          NaN           1               1                0   \n",
       "1             -291          NaN           1               1                0   \n",
       "2            -2531         26.0           1               1                1   \n",
       "3            -2437          NaN           1               1                0   \n",
       "4            -3458          NaN           1               1                0   \n",
       "\n",
       "   FLAG_CONT_MOBILE  FLAG_PHONE  FLAG_EMAIL OCCUPATION_TYPE  CNT_FAM_MEMBERS  \\\n",
       "0                 1           1           0        Laborers              1.0   \n",
       "1                 1           1           0      Core staff              2.0   \n",
       "2                 1           1           0        Laborers              1.0   \n",
       "3                 1           0           0        Laborers              2.0   \n",
       "4                 1           0           0      Core staff              1.0   \n",
       "\n",
       "   REGION_RATING_CLIENT  REGION_RATING_CLIENT_W_CITY  \\\n",
       "0                     2                            2   \n",
       "1                     1                            1   \n",
       "2                     2                            2   \n",
       "3                     2                            2   \n",
       "4                     2                            2   \n",
       "\n",
       "  WEEKDAY_APPR_PROCESS_START  HOUR_APPR_PROCESS_START  \\\n",
       "0                  WEDNESDAY                       10   \n",
       "1                     MONDAY                       11   \n",
       "2                     MONDAY                        9   \n",
       "3                  WEDNESDAY                       17   \n",
       "4                   THURSDAY                       11   \n",
       "\n",
       "   REG_REGION_NOT_LIVE_REGION  REG_REGION_NOT_WORK_REGION  \\\n",
       "0                           0                           0   \n",
       "1                           0                           0   \n",
       "2                           0                           0   \n",
       "3                           0                           0   \n",
       "4                           0                           0   \n",
       "\n",
       "   LIVE_REGION_NOT_WORK_REGION  REG_CITY_NOT_LIVE_CITY  \\\n",
       "0                            0                       0   \n",
       "1                            0                       0   \n",
       "2                            0                       0   \n",
       "3                            0                       0   \n",
       "4                            0                       0   \n",
       "\n",
       "   REG_CITY_NOT_WORK_CITY  LIVE_CITY_NOT_WORK_CITY       ORGANIZATION_TYPE  \\\n",
       "0                       0                        0  Business Entity Type 3   \n",
       "1                       0                        0                  School   \n",
       "2                       0                        0              Government   \n",
       "3                       0                        0  Business Entity Type 3   \n",
       "4                       1                        1                Religion   \n",
       "\n",
       "   EXT_SOURCE_1  EXT_SOURCE_2  EXT_SOURCE_3  APARTMENTS_AVG  BASEMENTAREA_AVG  \\\n",
       "0      0.083037      0.262949      0.139376          0.0247            0.0369   \n",
       "1      0.311267      0.622246           NaN          0.0959            0.0529   \n",
       "2           NaN      0.555912      0.729567             NaN               NaN   \n",
       "3           NaN      0.650442           NaN             NaN               NaN   \n",
       "4           NaN      0.322738           NaN             NaN               NaN   \n",
       "\n",
       "   YEARS_BEGINEXPLUATATION_AVG  YEARS_BUILD_AVG  COMMONAREA_AVG  \\\n",
       "0                       0.9722           0.6192          0.0143   \n",
       "1                       0.9851           0.7960          0.0605   \n",
       "2                          NaN              NaN             NaN   \n",
       "3                          NaN              NaN             NaN   \n",
       "4                          NaN              NaN             NaN   \n",
       "\n",
       "   ELEVATORS_AVG  ENTRANCES_AVG  FLOORSMAX_AVG  FLOORSMIN_AVG  LANDAREA_AVG  \\\n",
       "0           0.00         0.0690         0.0833         0.1250        0.0369   \n",
       "1           0.08         0.0345         0.2917         0.3333        0.0130   \n",
       "2            NaN            NaN            NaN            NaN           NaN   \n",
       "3            NaN            NaN            NaN            NaN           NaN   \n",
       "4            NaN            NaN            NaN            NaN           NaN   \n",
       "\n",
       "   LIVINGAPARTMENTS_AVG  LIVINGAREA_AVG  NONLIVINGAPARTMENTS_AVG  \\\n",
       "0                0.0202          0.0190                   0.0000   \n",
       "1                0.0773          0.0549                   0.0039   \n",
       "2                   NaN             NaN                      NaN   \n",
       "3                   NaN             NaN                      NaN   \n",
       "4                   NaN             NaN                      NaN   \n",
       "\n",
       "   NONLIVINGAREA_AVG  APARTMENTS_MODE  BASEMENTAREA_MODE  \\\n",
       "0             0.0000           0.0252             0.0383   \n",
       "1             0.0098           0.0924             0.0538   \n",
       "2                NaN              NaN                NaN   \n",
       "3                NaN              NaN                NaN   \n",
       "4                NaN              NaN                NaN   \n",
       "\n",
       "   YEARS_BEGINEXPLUATATION_MODE  YEARS_BUILD_MODE  COMMONAREA_MODE  \\\n",
       "0                        0.9722            0.6341           0.0144   \n",
       "1                        0.9851            0.8040           0.0497   \n",
       "2                           NaN               NaN              NaN   \n",
       "3                           NaN               NaN              NaN   \n",
       "4                           NaN               NaN              NaN   \n",
       "\n",
       "   ELEVATORS_MODE  ENTRANCES_MODE  FLOORSMAX_MODE  FLOORSMIN_MODE  \\\n",
       "0          0.0000          0.0690          0.0833          0.1250   \n",
       "1          0.0806          0.0345          0.2917          0.3333   \n",
       "2             NaN             NaN             NaN             NaN   \n",
       "3             NaN             NaN             NaN             NaN   \n",
       "4             NaN             NaN             NaN             NaN   \n",
       "\n",
       "   LANDAREA_MODE  LIVINGAPARTMENTS_MODE  LIVINGAREA_MODE  \\\n",
       "0         0.0377                  0.022           0.0198   \n",
       "1         0.0128                  0.079           0.0554   \n",
       "2            NaN                    NaN              NaN   \n",
       "3            NaN                    NaN              NaN   \n",
       "4            NaN                    NaN              NaN   \n",
       "\n",
       "   NONLIVINGAPARTMENTS_MODE  NONLIVINGAREA_MODE  APARTMENTS_MEDI  \\\n",
       "0                       0.0                 0.0           0.0250   \n",
       "1                       0.0                 0.0           0.0968   \n",
       "2                       NaN                 NaN              NaN   \n",
       "3                       NaN                 NaN              NaN   \n",
       "4                       NaN                 NaN              NaN   \n",
       "\n",
       "   BASEMENTAREA_MEDI  YEARS_BEGINEXPLUATATION_MEDI  YEARS_BUILD_MEDI  \\\n",
       "0             0.0369                        0.9722            0.6243   \n",
       "1             0.0529                        0.9851            0.7987   \n",
       "2                NaN                           NaN               NaN   \n",
       "3                NaN                           NaN               NaN   \n",
       "4                NaN                           NaN               NaN   \n",
       "\n",
       "   COMMONAREA_MEDI  ELEVATORS_MEDI  ENTRANCES_MEDI  FLOORSMAX_MEDI  \\\n",
       "0           0.0144            0.00          0.0690          0.0833   \n",
       "1           0.0608            0.08          0.0345          0.2917   \n",
       "2              NaN             NaN             NaN             NaN   \n",
       "3              NaN             NaN             NaN             NaN   \n",
       "4              NaN             NaN             NaN             NaN   \n",
       "\n",
       "   FLOORSMIN_MEDI  LANDAREA_MEDI  LIVINGAPARTMENTS_MEDI  LIVINGAREA_MEDI  \\\n",
       "0          0.1250         0.0375                 0.0205           0.0193   \n",
       "1          0.3333         0.0132                 0.0787           0.0558   \n",
       "2             NaN            NaN                    NaN              NaN   \n",
       "3             NaN            NaN                    NaN              NaN   \n",
       "4             NaN            NaN                    NaN              NaN   \n",
       "\n",
       "   NONLIVINGAPARTMENTS_MEDI  NONLIVINGAREA_MEDI FONDKAPREMONT_MODE  \\\n",
       "0                    0.0000                0.00   reg oper account   \n",
       "1                    0.0039                0.01   reg oper account   \n",
       "2                       NaN                 NaN                NaN   \n",
       "3                       NaN                 NaN                NaN   \n",
       "4                       NaN                 NaN                NaN   \n",
       "\n",
       "   HOUSETYPE_MODE  TOTALAREA_MODE WALLSMATERIAL_MODE EMERGENCYSTATE_MODE  \\\n",
       "0  block of flats          0.0149       Stone, brick                  No   \n",
       "1  block of flats          0.0714              Block                  No   \n",
       "2             NaN             NaN                NaN                 NaN   \n",
       "3             NaN             NaN                NaN                 NaN   \n",
       "4             NaN             NaN                NaN                 NaN   \n",
       "\n",
       "   OBS_30_CNT_SOCIAL_CIRCLE  DEF_30_CNT_SOCIAL_CIRCLE  \\\n",
       "0                       2.0                       2.0   \n",
       "1                       1.0                       0.0   \n",
       "2                       0.0                       0.0   \n",
       "3                       2.0                       0.0   \n",
       "4                       0.0                       0.0   \n",
       "\n",
       "   OBS_60_CNT_SOCIAL_CIRCLE  DEF_60_CNT_SOCIAL_CIRCLE  DAYS_LAST_PHONE_CHANGE  \\\n",
       "0                       2.0                       2.0                 -1134.0   \n",
       "1                       1.0                       0.0                  -828.0   \n",
       "2                       0.0                       0.0                  -815.0   \n",
       "3                       2.0                       0.0                  -617.0   \n",
       "4                       0.0                       0.0                 -1106.0   \n",
       "\n",
       "   FLAG_DOCUMENT_2  FLAG_DOCUMENT_3  FLAG_DOCUMENT_4  FLAG_DOCUMENT_5  \\\n",
       "0                0                1                0                0   \n",
       "1                0                1                0                0   \n",
       "2                0                0                0                0   \n",
       "3                0                1                0                0   \n",
       "4                0                0                0                0   \n",
       "\n",
       "   FLAG_DOCUMENT_6  FLAG_DOCUMENT_7  FLAG_DOCUMENT_8  FLAG_DOCUMENT_9  \\\n",
       "0                0                0                0                0   \n",
       "1                0                0                0                0   \n",
       "2                0                0                0                0   \n",
       "3                0                0                0                0   \n",
       "4                0                0                1                0   \n",
       "\n",
       "   FLAG_DOCUMENT_10  FLAG_DOCUMENT_11  FLAG_DOCUMENT_12  FLAG_DOCUMENT_13  \\\n",
       "0                 0                 0                 0                 0   \n",
       "1                 0                 0                 0                 0   \n",
       "2                 0                 0                 0                 0   \n",
       "3                 0                 0                 0                 0   \n",
       "4                 0                 0                 0                 0   \n",
       "\n",
       "   FLAG_DOCUMENT_14  FLAG_DOCUMENT_15  FLAG_DOCUMENT_16  FLAG_DOCUMENT_17  \\\n",
       "0                 0                 0                 0                 0   \n",
       "1                 0                 0                 0                 0   \n",
       "2                 0                 0                 0                 0   \n",
       "3                 0                 0                 0                 0   \n",
       "4                 0                 0                 0                 0   \n",
       "\n",
       "   FLAG_DOCUMENT_18  FLAG_DOCUMENT_19  FLAG_DOCUMENT_20  FLAG_DOCUMENT_21  \\\n",
       "0                 0                 0                 0                 0   \n",
       "1                 0                 0                 0                 0   \n",
       "2                 0                 0                 0                 0   \n",
       "3                 0                 0                 0                 0   \n",
       "4                 0                 0                 0                 0   \n",
       "\n",
       "   AMT_REQ_CREDIT_BUREAU_HOUR  AMT_REQ_CREDIT_BUREAU_DAY  \\\n",
       "0                         0.0                        0.0   \n",
       "1                         0.0                        0.0   \n",
       "2                         0.0                        0.0   \n",
       "3                         NaN                        NaN   \n",
       "4                         0.0                        0.0   \n",
       "\n",
       "   AMT_REQ_CREDIT_BUREAU_WEEK  AMT_REQ_CREDIT_BUREAU_MON  \\\n",
       "0                         0.0                        0.0   \n",
       "1                         0.0                        0.0   \n",
       "2                         0.0                        0.0   \n",
       "3                         NaN                        NaN   \n",
       "4                         0.0                        0.0   \n",
       "\n",
       "   AMT_REQ_CREDIT_BUREAU_QRT  AMT_REQ_CREDIT_BUREAU_YEAR  \n",
       "0                        0.0                         1.0  \n",
       "1                        0.0                         0.0  \n",
       "2                        0.0                         0.0  \n",
       "3                        NaN                         NaN  \n",
       "4                        0.0                         0.0  "
      ]
     },
     "execution_count": 4,
     "metadata": {},
     "output_type": "execute_result"
    }
   ],
   "source": [
    "application.head(5)"
   ]
  },
  {
   "cell_type": "code",
   "execution_count": 5,
   "id": "feddc34c",
   "metadata": {
    "scrolled": true
   },
   "outputs": [
    {
     "data": {
      "text/plain": [
       "(307511, 122)"
      ]
     },
     "execution_count": 5,
     "metadata": {},
     "output_type": "execute_result"
    }
   ],
   "source": [
    "application.shape"
   ]
  },
  {
   "cell_type": "markdown",
   "id": "d31e34a5",
   "metadata": {},
   "source": [
    "- application dataset has 307511 columns and 122 rows\n",
    "- columns which starts with flag name such as Flag_phone contains boolean 0(No) ,1(yes). if client is not giving enough information, they may become defaulters."
   ]
  },
  {
   "cell_type": "markdown",
   "id": "03797515",
   "metadata": {},
   "source": [
    "### Subtask 2.1.1 :  Cleaning and filtering application dataset"
   ]
  },
  {
   "cell_type": "markdown",
   "id": "5465684a",
   "metadata": {},
   "source": [
    "- Finding null percentage more than 50%. \n",
    "- Removing these columns"
   ]
  },
  {
   "cell_type": "code",
   "execution_count": 6,
   "id": "24453232",
   "metadata": {},
   "outputs": [],
   "source": [
    "nullcol = application.isnull().sum(axis = 0).sort_values(ascending = False)\n",
    "nullcolper = pd.DataFrame(round((nullcol/len(application)*100),2)).reset_index()\n",
    "nullcolper.columns=['column name','null %']\n",
    "nullcolper['value'] = np.where(nullcolper['null %']> 50,'Yes','No')\n",
    "nullbool = nullcolper[nullcolper['value']=='Yes']\n",
    "null1 = nullcolper[nullcolper['value']=='Yes']"
   ]
  },
  {
   "cell_type": "code",
   "execution_count": 7,
   "id": "dbce01d0",
   "metadata": {
    "scrolled": false
   },
   "outputs": [
    {
     "data": {
      "text/html": [
       "<div>\n",
       "<style scoped>\n",
       "    .dataframe tbody tr th:only-of-type {\n",
       "        vertical-align: middle;\n",
       "    }\n",
       "\n",
       "    .dataframe tbody tr th {\n",
       "        vertical-align: top;\n",
       "    }\n",
       "\n",
       "    .dataframe thead th {\n",
       "        text-align: right;\n",
       "    }\n",
       "</style>\n",
       "<table border=\"1\" class=\"dataframe\">\n",
       "  <thead>\n",
       "    <tr style=\"text-align: right;\">\n",
       "      <th></th>\n",
       "      <th>column name</th>\n",
       "      <th>null %</th>\n",
       "      <th>value</th>\n",
       "    </tr>\n",
       "  </thead>\n",
       "  <tbody>\n",
       "    <tr>\n",
       "      <th>0</th>\n",
       "      <td>COMMONAREA_MEDI</td>\n",
       "      <td>69.87</td>\n",
       "      <td>Yes</td>\n",
       "    </tr>\n",
       "    <tr>\n",
       "      <th>1</th>\n",
       "      <td>COMMONAREA_AVG</td>\n",
       "      <td>69.87</td>\n",
       "      <td>Yes</td>\n",
       "    </tr>\n",
       "    <tr>\n",
       "      <th>2</th>\n",
       "      <td>COMMONAREA_MODE</td>\n",
       "      <td>69.87</td>\n",
       "      <td>Yes</td>\n",
       "    </tr>\n",
       "    <tr>\n",
       "      <th>3</th>\n",
       "      <td>NONLIVINGAPARTMENTS_MODE</td>\n",
       "      <td>69.43</td>\n",
       "      <td>Yes</td>\n",
       "    </tr>\n",
       "    <tr>\n",
       "      <th>4</th>\n",
       "      <td>NONLIVINGAPARTMENTS_AVG</td>\n",
       "      <td>69.43</td>\n",
       "      <td>Yes</td>\n",
       "    </tr>\n",
       "    <tr>\n",
       "      <th>...</th>\n",
       "      <td>...</td>\n",
       "      <td>...</td>\n",
       "      <td>...</td>\n",
       "    </tr>\n",
       "    <tr>\n",
       "      <th>117</th>\n",
       "      <td>NAME_HOUSING_TYPE</td>\n",
       "      <td>0.00</td>\n",
       "      <td>No</td>\n",
       "    </tr>\n",
       "    <tr>\n",
       "      <th>118</th>\n",
       "      <td>NAME_FAMILY_STATUS</td>\n",
       "      <td>0.00</td>\n",
       "      <td>No</td>\n",
       "    </tr>\n",
       "    <tr>\n",
       "      <th>119</th>\n",
       "      <td>NAME_EDUCATION_TYPE</td>\n",
       "      <td>0.00</td>\n",
       "      <td>No</td>\n",
       "    </tr>\n",
       "    <tr>\n",
       "      <th>120</th>\n",
       "      <td>NAME_INCOME_TYPE</td>\n",
       "      <td>0.00</td>\n",
       "      <td>No</td>\n",
       "    </tr>\n",
       "    <tr>\n",
       "      <th>121</th>\n",
       "      <td>SK_ID_CURR</td>\n",
       "      <td>0.00</td>\n",
       "      <td>No</td>\n",
       "    </tr>\n",
       "  </tbody>\n",
       "</table>\n",
       "<p>122 rows × 3 columns</p>\n",
       "</div>"
      ],
      "text/plain": [
       "                  column name  null % value\n",
       "0             COMMONAREA_MEDI   69.87   Yes\n",
       "1              COMMONAREA_AVG   69.87   Yes\n",
       "2             COMMONAREA_MODE   69.87   Yes\n",
       "3    NONLIVINGAPARTMENTS_MODE   69.43   Yes\n",
       "4     NONLIVINGAPARTMENTS_AVG   69.43   Yes\n",
       "..                        ...     ...   ...\n",
       "117         NAME_HOUSING_TYPE    0.00    No\n",
       "118        NAME_FAMILY_STATUS    0.00    No\n",
       "119       NAME_EDUCATION_TYPE    0.00    No\n",
       "120          NAME_INCOME_TYPE    0.00    No\n",
       "121                SK_ID_CURR    0.00    No\n",
       "\n",
       "[122 rows x 3 columns]"
      ]
     },
     "execution_count": 7,
     "metadata": {},
     "output_type": "execute_result"
    }
   ],
   "source": [
    "nullcolper"
   ]
  },
  {
   "cell_type": "code",
   "execution_count": 8,
   "id": "84e3841f",
   "metadata": {
    "scrolled": true
   },
   "outputs": [
    {
     "data": {
      "text/plain": [
       "count    122.000000\n",
       "mean      24.395902\n",
       "std       28.446741\n",
       "min        0.000000\n",
       "25%        0.000000\n",
       "50%        0.330000\n",
       "75%       50.817500\n",
       "max       69.870000\n",
       "Name: null %, dtype: float64"
      ]
     },
     "execution_count": 8,
     "metadata": {},
     "output_type": "execute_result"
    }
   ],
   "source": [
    "nullcolper['null %'].describe()"
   ]
  },
  {
   "cell_type": "code",
   "execution_count": 9,
   "id": "92ae9027",
   "metadata": {},
   "outputs": [
    {
     "data": {
      "text/plain": [
       "41"
      ]
     },
     "execution_count": 9,
     "metadata": {},
     "output_type": "execute_result"
    }
   ],
   "source": [
    "null1['null %'].count()"
   ]
  },
  {
   "cell_type": "markdown",
   "id": "10534602",
   "metadata": {},
   "source": [
    "- there are 41 columns with more than 50% of null values\n",
    "- Now, i will remove these columns from dataset (application data) as there are more than 50% of null values which makes no sense to analyze\n",
    "- I will later remove cols with more than 25% of null values as 24% is the mean and we dont required that much amount of null value percentage. "
   ]
  },
  {
   "cell_type": "code",
   "execution_count": 10,
   "id": "a7fbb37f",
   "metadata": {},
   "outputs": [],
   "source": [
    "application.drop(columns = ['COMMONAREA_MEDI','COMMONAREA_AVG',\n",
    "'COMMONAREA_MODE',\n",
    "'NONLIVINGAPARTMENTS_MODE',\n",
    "'NONLIVINGAPARTMENTS_AVG',\n",
    "'NONLIVINGAPARTMENTS_MEDI',\n",
    "'FONDKAPREMONT_MODE',\n",
    "'LIVINGAPARTMENTS_MODE',\n",
    "'LIVINGAPARTMENTS_AVG',\n",
    "'LIVINGAPARTMENTS_MEDI',\n",
    "'FLOORSMIN_AVG',\n",
    "'FLOORSMIN_MODE',\n",
    "'FLOORSMIN_MEDI',\n",
    "'YEARS_BUILD_MEDI',\n",
    "'YEARS_BUILD_MODE',\n",
    "'YEARS_BUILD_AVG',\n",
    "'OWN_CAR_AGE',\n",
    "'LANDAREA_MEDI',\n",
    "'LANDAREA_MODE',\n",
    "'LANDAREA_AVG',\n",
    "'BASEMENTAREA_MEDI',\n",
    "'BASEMENTAREA_AVG',\n",
    "'BASEMENTAREA_MODE',       \n",
    "'YEARS_BUILD_MEDI',\n",
    "'YEARS_BUILD_MODE',\n",
    "'YEARS_BUILD_AVG',\n",
    "'OWN_CAR_AGE',\n",
    "'LANDAREA_MEDI',\n",
    "'LANDAREA_MODE',\n",
    "'LANDAREA_AVG',\n",
    "'BASEMENTAREA_MEDI',\n",
    "'BASEMENTAREA_AVG',\n",
    "'BASEMENTAREA_MODE',\n",
    "'EXT_SOURCE_1',\n",
    "'NONLIVINGAREA_MODE',\n",
    "'NONLIVINGAREA_AVG',\n",
    "'NONLIVINGAREA_MEDI',\n",
    "'ELEVATORS_MEDI',\n",
    "'ELEVATORS_AVG',\n",
    "'ELEVATORS_MODE',\n",
    "'WALLSMATERIAL_MODE',\n",
    "'APARTMENTS_MEDI',\n",
    "'APARTMENTS_AVG',\n",
    "'APARTMENTS_MODE',\n",
    "'ENTRANCES_MEDI',\n",
    "'ENTRANCES_AVG',\n",
    "'ENTRANCES_MODE',\n",
    "'LIVINGAREA_AVG',\n",
    "'LIVINGAREA_MODE',\n",
    "'LIVINGAREA_MEDI',\n",
    "'HOUSETYPE_MODE',\n",
    "         ],inplace = True)"
   ]
  },
  {
   "cell_type": "code",
   "execution_count": 11,
   "id": "bc59e623",
   "metadata": {},
   "outputs": [
    {
     "data": {
      "text/plain": [
       "(307511, 81)"
      ]
     },
     "execution_count": 11,
     "metadata": {},
     "output_type": "execute_result"
    }
   ],
   "source": [
    "application.shape"
   ]
  },
  {
   "cell_type": "markdown",
   "id": "62188362",
   "metadata": {},
   "source": [
    "- 41 columns with null value more than 50% are removed"
   ]
  },
  {
   "cell_type": "markdown",
   "id": "bae03665",
   "metadata": {},
   "source": [
    "- Finding null percentage more than 15%. \n"
   ]
  },
  {
   "cell_type": "code",
   "execution_count": 12,
   "id": "d7064be5",
   "metadata": {},
   "outputs": [],
   "source": [
    "nullcol = application.isnull().sum(axis = 0).sort_values(ascending = False)\n",
    "nullcolper = pd.DataFrame(round((nullcol/len(application)*100),2)).reset_index()\n",
    "nullcolper.columns=['column name','null %']\n",
    "nullcolper['value'] = np.where(nullcolper['null %']> 15,'Yes','No')\n",
    "null = nullcolper[nullcolper['value']=='Yes']"
   ]
  },
  {
   "cell_type": "code",
   "execution_count": 13,
   "id": "1140b8c9",
   "metadata": {},
   "outputs": [
    {
     "data": {
      "text/html": [
       "<div>\n",
       "<style scoped>\n",
       "    .dataframe tbody tr th:only-of-type {\n",
       "        vertical-align: middle;\n",
       "    }\n",
       "\n",
       "    .dataframe tbody tr th {\n",
       "        vertical-align: top;\n",
       "    }\n",
       "\n",
       "    .dataframe thead th {\n",
       "        text-align: right;\n",
       "    }\n",
       "</style>\n",
       "<table border=\"1\" class=\"dataframe\">\n",
       "  <thead>\n",
       "    <tr style=\"text-align: right;\">\n",
       "      <th></th>\n",
       "      <th>column name</th>\n",
       "      <th>null %</th>\n",
       "      <th>value</th>\n",
       "    </tr>\n",
       "  </thead>\n",
       "  <tbody>\n",
       "    <tr>\n",
       "      <th>0</th>\n",
       "      <td>FLOORSMAX_AVG</td>\n",
       "      <td>49.76</td>\n",
       "      <td>Yes</td>\n",
       "    </tr>\n",
       "    <tr>\n",
       "      <th>1</th>\n",
       "      <td>FLOORSMAX_MODE</td>\n",
       "      <td>49.76</td>\n",
       "      <td>Yes</td>\n",
       "    </tr>\n",
       "    <tr>\n",
       "      <th>2</th>\n",
       "      <td>FLOORSMAX_MEDI</td>\n",
       "      <td>49.76</td>\n",
       "      <td>Yes</td>\n",
       "    </tr>\n",
       "    <tr>\n",
       "      <th>3</th>\n",
       "      <td>YEARS_BEGINEXPLUATATION_AVG</td>\n",
       "      <td>48.78</td>\n",
       "      <td>Yes</td>\n",
       "    </tr>\n",
       "    <tr>\n",
       "      <th>4</th>\n",
       "      <td>YEARS_BEGINEXPLUATATION_MODE</td>\n",
       "      <td>48.78</td>\n",
       "      <td>Yes</td>\n",
       "    </tr>\n",
       "    <tr>\n",
       "      <th>5</th>\n",
       "      <td>YEARS_BEGINEXPLUATATION_MEDI</td>\n",
       "      <td>48.78</td>\n",
       "      <td>Yes</td>\n",
       "    </tr>\n",
       "    <tr>\n",
       "      <th>6</th>\n",
       "      <td>TOTALAREA_MODE</td>\n",
       "      <td>48.27</td>\n",
       "      <td>Yes</td>\n",
       "    </tr>\n",
       "    <tr>\n",
       "      <th>7</th>\n",
       "      <td>EMERGENCYSTATE_MODE</td>\n",
       "      <td>47.40</td>\n",
       "      <td>Yes</td>\n",
       "    </tr>\n",
       "    <tr>\n",
       "      <th>8</th>\n",
       "      <td>OCCUPATION_TYPE</td>\n",
       "      <td>31.35</td>\n",
       "      <td>Yes</td>\n",
       "    </tr>\n",
       "    <tr>\n",
       "      <th>9</th>\n",
       "      <td>EXT_SOURCE_3</td>\n",
       "      <td>19.83</td>\n",
       "      <td>Yes</td>\n",
       "    </tr>\n",
       "  </tbody>\n",
       "</table>\n",
       "</div>"
      ],
      "text/plain": [
       "                    column name  null % value\n",
       "0                 FLOORSMAX_AVG   49.76   Yes\n",
       "1                FLOORSMAX_MODE   49.76   Yes\n",
       "2                FLOORSMAX_MEDI   49.76   Yes\n",
       "3   YEARS_BEGINEXPLUATATION_AVG   48.78   Yes\n",
       "4  YEARS_BEGINEXPLUATATION_MODE   48.78   Yes\n",
       "5  YEARS_BEGINEXPLUATATION_MEDI   48.78   Yes\n",
       "6                TOTALAREA_MODE   48.27   Yes\n",
       "7           EMERGENCYSTATE_MODE   47.40   Yes\n",
       "8               OCCUPATION_TYPE   31.35   Yes\n",
       "9                  EXT_SOURCE_3   19.83   Yes"
      ]
     },
     "execution_count": 13,
     "metadata": {},
     "output_type": "execute_result"
    }
   ],
   "source": [
    "null"
   ]
  },
  {
   "cell_type": "markdown",
   "id": "d4baa56d",
   "metadata": {},
   "source": [
    "- there are 10 cols more than 15% of null values so we will remove these to have more clearity on data\n",
    "- we will check if there is some correlation between target and these columns.\n",
    "- removing all columns except occupation type and ext_source3"
   ]
  },
  {
   "cell_type": "code",
   "execution_count": 14,
   "id": "74b5b988",
   "metadata": {
    "scrolled": true
   },
   "outputs": [
    {
     "data": {
      "text/plain": [
       "<AxesSubplot:>"
      ]
     },
     "execution_count": 14,
     "metadata": {},
     "output_type": "execute_result"
    },
    {
     "data": {
      "image/png": "[encoded data removed]",
      "text/plain": [
       "<Figure size 432x288 with 2 Axes>"
      ]
     },
     "metadata": {
      "needs_background": "light"
     },
     "output_type": "display_data"
    }
   ],
   "source": [
    "extracol = ['FLOORSMAX_AVG','FLOORSMAX_MODE','FLOORSMAX_MEDI','YEARS_BEGINEXPLUATATION_AVG','YEARS_BEGINEXPLUATATION_MODE','YEARS_BEGINEXPLUATATION_MEDI','TOTALAREA_MODE','EMERGENCYSTATE_MODE']\n",
    "sns.heatmap(application[extracol +['TARGET']].corr(),annot = False)"
   ]
  },
  {
   "cell_type": "markdown",
   "id": "1a0bd054",
   "metadata": {},
   "source": [
    "- As there is no correlation between Target and these columns will remove these columns.\n",
    "- removing all columns except occupation type and ext_source3"
   ]
  },
  {
   "cell_type": "code",
   "execution_count": 15,
   "id": "e83d3646",
   "metadata": {},
   "outputs": [],
   "source": [
    "application.drop(columns = ['FLOORSMAX_AVG',\n",
    "'FLOORSMAX_MODE',\n",
    "'FLOORSMAX_MEDI',\n",
    "'YEARS_BEGINEXPLUATATION_AVG',\n",
    "'YEARS_BEGINEXPLUATATION_MODE',\n",
    "'YEARS_BEGINEXPLUATATION_MEDI',\n",
    "'TOTALAREA_MODE',\n",
    "'EMERGENCYSTATE_MODE'],inplace = True)"
   ]
  },
  {
   "cell_type": "code",
   "execution_count": 16,
   "id": "3bb63de4",
   "metadata": {
    "scrolled": true
   },
   "outputs": [
    {
     "data": {
      "text/plain": [
       "(307511, 73)"
      ]
     },
     "execution_count": 16,
     "metadata": {},
     "output_type": "execute_result"
    }
   ],
   "source": [
    "application.shape"
   ]
  },
  {
   "cell_type": "markdown",
   "id": "bfacd427",
   "metadata": {},
   "source": [
    "- Now only 73 columns are left"
   ]
  },
  {
   "cell_type": "code",
   "execution_count": 17,
   "id": "54d10abd",
   "metadata": {
    "scrolled": false
   },
   "outputs": [
    {
     "data": {
      "text/plain": [
       "OCCUPATION_TYPE                31.345545\n",
       "EXT_SOURCE_3                   19.825307\n",
       "AMT_REQ_CREDIT_BUREAU_YEAR     13.501631\n",
       "AMT_REQ_CREDIT_BUREAU_QRT      13.501631\n",
       "AMT_REQ_CREDIT_BUREAU_MON      13.501631\n",
       "                                 ...    \n",
       "REG_REGION_NOT_LIVE_REGION      0.000000\n",
       "REG_REGION_NOT_WORK_REGION      0.000000\n",
       "LIVE_REGION_NOT_WORK_REGION     0.000000\n",
       "TARGET                          0.000000\n",
       "REG_CITY_NOT_LIVE_CITY          0.000000\n",
       "Length: 73, dtype: float64"
      ]
     },
     "execution_count": 17,
     "metadata": {},
     "output_type": "execute_result"
    }
   ],
   "source": [
    "(application.isnull().sum().sort_values(ascending  =False)/len(application))*100"
   ]
  },
  {
   "cell_type": "markdown",
   "id": "f60da96e",
   "metadata": {},
   "source": [
    "- we will leave these columns as it we will now go on previous dataset"
   ]
  },
  {
   "cell_type": "markdown",
   "id": "1a1fbc15",
   "metadata": {},
   "source": [
    "### Subtask 2.2 : Previous Dataset"
   ]
  },
  {
   "cell_type": "code",
   "execution_count": 18,
   "id": "02c9d886",
   "metadata": {},
   "outputs": [
    {
     "data": {
      "text/html": [
       "<div>\n",
       "<style scoped>\n",
       "    .dataframe tbody tr th:only-of-type {\n",
       "        vertical-align: middle;\n",
       "    }\n",
       "\n",
       "    .dataframe tbody tr th {\n",
       "        vertical-align: top;\n",
       "    }\n",
       "\n",
       "    .dataframe thead th {\n",
       "        text-align: right;\n",
       "    }\n",
       "</style>\n",
       "<table border=\"1\" class=\"dataframe\">\n",
       "  <thead>\n",
       "    <tr style=\"text-align: right;\">\n",
       "      <th></th>\n",
       "      <th>SK_ID_PREV</th>\n",
       "      <th>SK_ID_CURR</th>\n",
       "      <th>NAME_CONTRACT_TYPE</th>\n",
       "      <th>AMT_ANNUITY</th>\n",
       "      <th>AMT_APPLICATION</th>\n",
       "      <th>AMT_CREDIT</th>\n",
       "      <th>AMT_DOWN_PAYMENT</th>\n",
       "      <th>AMT_GOODS_PRICE</th>\n",
       "      <th>WEEKDAY_APPR_PROCESS_START</th>\n",
       "      <th>HOUR_APPR_PROCESS_START</th>\n",
       "      <th>FLAG_LAST_APPL_PER_CONTRACT</th>\n",
       "      <th>NFLAG_LAST_APPL_IN_DAY</th>\n",
       "      <th>RATE_DOWN_PAYMENT</th>\n",
       "      <th>RATE_INTEREST_PRIMARY</th>\n",
       "      <th>RATE_INTEREST_PRIVILEGED</th>\n",
       "      <th>NAME_CASH_LOAN_PURPOSE</th>\n",
       "      <th>NAME_CONTRACT_STATUS</th>\n",
       "      <th>DAYS_DECISION</th>\n",
       "      <th>NAME_PAYMENT_TYPE</th>\n",
       "      <th>CODE_REJECT_REASON</th>\n",
       "      <th>NAME_TYPE_SUITE</th>\n",
       "      <th>NAME_CLIENT_TYPE</th>\n",
       "      <th>NAME_GOODS_CATEGORY</th>\n",
       "      <th>NAME_PORTFOLIO</th>\n",
       "      <th>NAME_PRODUCT_TYPE</th>\n",
       "      <th>CHANNEL_TYPE</th>\n",
       "      <th>SELLERPLACE_AREA</th>\n",
       "      <th>NAME_SELLER_INDUSTRY</th>\n",
       "      <th>CNT_PAYMENT</th>\n",
       "      <th>NAME_YIELD_GROUP</th>\n",
       "      <th>PRODUCT_COMBINATION</th>\n",
       "      <th>DAYS_FIRST_DRAWING</th>\n",
       "      <th>DAYS_FIRST_DUE</th>\n",
       "      <th>DAYS_LAST_DUE_1ST_VERSION</th>\n",
       "      <th>DAYS_LAST_DUE</th>\n",
       "      <th>DAYS_TERMINATION</th>\n",
       "      <th>NFLAG_INSURED_ON_APPROVAL</th>\n",
       "    </tr>\n",
       "  </thead>\n",
       "  <tbody>\n",
       "    <tr>\n",
       "      <th>0</th>\n",
       "      <td>2030495</td>\n",
       "      <td>271877</td>\n",
       "      <td>Consumer loans</td>\n",
       "      <td>1730.430</td>\n",
       "      <td>17145.0</td>\n",
       "      <td>17145.0</td>\n",
       "      <td>0.0</td>\n",
       "      <td>17145.0</td>\n",
       "      <td>SATURDAY</td>\n",
       "      <td>15</td>\n",
       "      <td>Y</td>\n",
       "      <td>1</td>\n",
       "      <td>0.0</td>\n",
       "      <td>0.182832</td>\n",
       "      <td>0.867336</td>\n",
       "      <td>XAP</td>\n",
       "      <td>Approved</td>\n",
       "      <td>-73</td>\n",
       "      <td>Cash through the bank</td>\n",
       "      <td>XAP</td>\n",
       "      <td>NaN</td>\n",
       "      <td>Repeater</td>\n",
       "      <td>Mobile</td>\n",
       "      <td>POS</td>\n",
       "      <td>XNA</td>\n",
       "      <td>Country-wide</td>\n",
       "      <td>35</td>\n",
       "      <td>Connectivity</td>\n",
       "      <td>12.0</td>\n",
       "      <td>middle</td>\n",
       "      <td>POS mobile with interest</td>\n",
       "      <td>365243.0</td>\n",
       "      <td>-42.0</td>\n",
       "      <td>300.0</td>\n",
       "      <td>-42.0</td>\n",
       "      <td>-37.0</td>\n",
       "      <td>0.0</td>\n",
       "    </tr>\n",
       "    <tr>\n",
       "      <th>1</th>\n",
       "      <td>2802425</td>\n",
       "      <td>108129</td>\n",
       "      <td>Cash loans</td>\n",
       "      <td>25188.615</td>\n",
       "      <td>607500.0</td>\n",
       "      <td>679671.0</td>\n",
       "      <td>NaN</td>\n",
       "      <td>607500.0</td>\n",
       "      <td>THURSDAY</td>\n",
       "      <td>11</td>\n",
       "      <td>Y</td>\n",
       "      <td>1</td>\n",
       "      <td>NaN</td>\n",
       "      <td>NaN</td>\n",
       "      <td>NaN</td>\n",
       "      <td>XNA</td>\n",
       "      <td>Approved</td>\n",
       "      <td>-164</td>\n",
       "      <td>XNA</td>\n",
       "      <td>XAP</td>\n",
       "      <td>Unaccompanied</td>\n",
       "      <td>Repeater</td>\n",
       "      <td>XNA</td>\n",
       "      <td>Cash</td>\n",
       "      <td>x-sell</td>\n",
       "      <td>Contact center</td>\n",
       "      <td>-1</td>\n",
       "      <td>XNA</td>\n",
       "      <td>36.0</td>\n",
       "      <td>low_action</td>\n",
       "      <td>Cash X-Sell: low</td>\n",
       "      <td>365243.0</td>\n",
       "      <td>-134.0</td>\n",
       "      <td>916.0</td>\n",
       "      <td>365243.0</td>\n",
       "      <td>365243.0</td>\n",
       "      <td>1.0</td>\n",
       "    </tr>\n",
       "    <tr>\n",
       "      <th>2</th>\n",
       "      <td>2523466</td>\n",
       "      <td>122040</td>\n",
       "      <td>Cash loans</td>\n",
       "      <td>15060.735</td>\n",
       "      <td>112500.0</td>\n",
       "      <td>136444.5</td>\n",
       "      <td>NaN</td>\n",
       "      <td>112500.0</td>\n",
       "      <td>TUESDAY</td>\n",
       "      <td>11</td>\n",
       "      <td>Y</td>\n",
       "      <td>1</td>\n",
       "      <td>NaN</td>\n",
       "      <td>NaN</td>\n",
       "      <td>NaN</td>\n",
       "      <td>XNA</td>\n",
       "      <td>Approved</td>\n",
       "      <td>-301</td>\n",
       "      <td>Cash through the bank</td>\n",
       "      <td>XAP</td>\n",
       "      <td>Spouse, partner</td>\n",
       "      <td>Repeater</td>\n",
       "      <td>XNA</td>\n",
       "      <td>Cash</td>\n",
       "      <td>x-sell</td>\n",
       "      <td>Credit and cash offices</td>\n",
       "      <td>-1</td>\n",
       "      <td>XNA</td>\n",
       "      <td>12.0</td>\n",
       "      <td>high</td>\n",
       "      <td>Cash X-Sell: high</td>\n",
       "      <td>365243.0</td>\n",
       "      <td>-271.0</td>\n",
       "      <td>59.0</td>\n",
       "      <td>365243.0</td>\n",
       "      <td>365243.0</td>\n",
       "      <td>1.0</td>\n",
       "    </tr>\n",
       "    <tr>\n",
       "      <th>3</th>\n",
       "      <td>2819243</td>\n",
       "      <td>176158</td>\n",
       "      <td>Cash loans</td>\n",
       "      <td>47041.335</td>\n",
       "      <td>450000.0</td>\n",
       "      <td>470790.0</td>\n",
       "      <td>NaN</td>\n",
       "      <td>450000.0</td>\n",
       "      <td>MONDAY</td>\n",
       "      <td>7</td>\n",
       "      <td>Y</td>\n",
       "      <td>1</td>\n",
       "      <td>NaN</td>\n",
       "      <td>NaN</td>\n",
       "      <td>NaN</td>\n",
       "      <td>XNA</td>\n",
       "      <td>Approved</td>\n",
       "      <td>-512</td>\n",
       "      <td>Cash through the bank</td>\n",
       "      <td>XAP</td>\n",
       "      <td>NaN</td>\n",
       "      <td>Repeater</td>\n",
       "      <td>XNA</td>\n",
       "      <td>Cash</td>\n",
       "      <td>x-sell</td>\n",
       "      <td>Credit and cash offices</td>\n",
       "      <td>-1</td>\n",
       "      <td>XNA</td>\n",
       "      <td>12.0</td>\n",
       "      <td>middle</td>\n",
       "      <td>Cash X-Sell: middle</td>\n",
       "      <td>365243.0</td>\n",
       "      <td>-482.0</td>\n",
       "      <td>-152.0</td>\n",
       "      <td>-182.0</td>\n",
       "      <td>-177.0</td>\n",
       "      <td>1.0</td>\n",
       "    </tr>\n",
       "    <tr>\n",
       "      <th>4</th>\n",
       "      <td>1784265</td>\n",
       "      <td>202054</td>\n",
       "      <td>Cash loans</td>\n",
       "      <td>31924.395</td>\n",
       "      <td>337500.0</td>\n",
       "      <td>404055.0</td>\n",
       "      <td>NaN</td>\n",
       "      <td>337500.0</td>\n",
       "      <td>THURSDAY</td>\n",
       "      <td>9</td>\n",
       "      <td>Y</td>\n",
       "      <td>1</td>\n",
       "      <td>NaN</td>\n",
       "      <td>NaN</td>\n",
       "      <td>NaN</td>\n",
       "      <td>Repairs</td>\n",
       "      <td>Refused</td>\n",
       "      <td>-781</td>\n",
       "      <td>Cash through the bank</td>\n",
       "      <td>HC</td>\n",
       "      <td>NaN</td>\n",
       "      <td>Repeater</td>\n",
       "      <td>XNA</td>\n",
       "      <td>Cash</td>\n",
       "      <td>walk-in</td>\n",
       "      <td>Credit and cash offices</td>\n",
       "      <td>-1</td>\n",
       "      <td>XNA</td>\n",
       "      <td>24.0</td>\n",
       "      <td>high</td>\n",
       "      <td>Cash Street: high</td>\n",
       "      <td>NaN</td>\n",
       "      <td>NaN</td>\n",
       "      <td>NaN</td>\n",
       "      <td>NaN</td>\n",
       "      <td>NaN</td>\n",
       "      <td>NaN</td>\n",
       "    </tr>\n",
       "  </tbody>\n",
       "</table>\n",
       "</div>"
      ],
      "text/plain": [
       "   SK_ID_PREV  SK_ID_CURR NAME_CONTRACT_TYPE  AMT_ANNUITY  AMT_APPLICATION  \\\n",
       "0     2030495      271877     Consumer loans     1730.430          17145.0   \n",
       "1     2802425      108129         Cash loans    25188.615         607500.0   \n",
       "2     2523466      122040         Cash loans    15060.735         112500.0   \n",
       "3     2819243      176158         Cash loans    47041.335         450000.0   \n",
       "4     1784265      202054         Cash loans    31924.395         337500.0   \n",
       "\n",
       "   AMT_CREDIT  AMT_DOWN_PAYMENT  AMT_GOODS_PRICE WEEKDAY_APPR_PROCESS_START  \\\n",
       "0     17145.0               0.0          17145.0                   SATURDAY   \n",
       "1    679671.0               NaN         607500.0                   THURSDAY   \n",
       "2    136444.5               NaN         112500.0                    TUESDAY   \n",
       "3    470790.0               NaN         450000.0                     MONDAY   \n",
       "4    404055.0               NaN         337500.0                   THURSDAY   \n",
       "\n",
       "   HOUR_APPR_PROCESS_START FLAG_LAST_APPL_PER_CONTRACT  \\\n",
       "0                       15                           Y   \n",
       "1                       11                           Y   \n",
       "2                       11                           Y   \n",
       "3                        7                           Y   \n",
       "4                        9                           Y   \n",
       "\n",
       "   NFLAG_LAST_APPL_IN_DAY  RATE_DOWN_PAYMENT  RATE_INTEREST_PRIMARY  \\\n",
       "0                       1                0.0               0.182832   \n",
       "1                       1                NaN                    NaN   \n",
       "2                       1                NaN                    NaN   \n",
       "3                       1                NaN                    NaN   \n",
       "4                       1                NaN                    NaN   \n",
       "\n",
       "   RATE_INTEREST_PRIVILEGED NAME_CASH_LOAN_PURPOSE NAME_CONTRACT_STATUS  \\\n",
       "0                  0.867336                    XAP             Approved   \n",
       "1                       NaN                    XNA             Approved   \n",
       "2                       NaN                    XNA             Approved   \n",
       "3                       NaN                    XNA             Approved   \n",
       "4                       NaN                Repairs              Refused   \n",
       "\n",
       "   DAYS_DECISION      NAME_PAYMENT_TYPE CODE_REJECT_REASON  NAME_TYPE_SUITE  \\\n",
       "0            -73  Cash through the bank                XAP              NaN   \n",
       "1           -164                    XNA                XAP    Unaccompanied   \n",
       "2           -301  Cash through the bank                XAP  Spouse, partner   \n",
       "3           -512  Cash through the bank                XAP              NaN   \n",
       "4           -781  Cash through the bank                 HC              NaN   \n",
       "\n",
       "  NAME_CLIENT_TYPE NAME_GOODS_CATEGORY NAME_PORTFOLIO NAME_PRODUCT_TYPE  \\\n",
       "0         Repeater              Mobile            POS               XNA   \n",
       "1         Repeater                 XNA           Cash            x-sell   \n",
       "2         Repeater                 XNA           Cash            x-sell   \n",
       "3         Repeater                 XNA           Cash            x-sell   \n",
       "4         Repeater                 XNA           Cash           walk-in   \n",
       "\n",
       "              CHANNEL_TYPE  SELLERPLACE_AREA NAME_SELLER_INDUSTRY  \\\n",
       "0             Country-wide                35         Connectivity   \n",
       "1           Contact center                -1                  XNA   \n",
       "2  Credit and cash offices                -1                  XNA   \n",
       "3  Credit and cash offices                -1                  XNA   \n",
       "4  Credit and cash offices                -1                  XNA   \n",
       "\n",
       "   CNT_PAYMENT NAME_YIELD_GROUP       PRODUCT_COMBINATION  DAYS_FIRST_DRAWING  \\\n",
       "0         12.0           middle  POS mobile with interest            365243.0   \n",
       "1         36.0       low_action          Cash X-Sell: low            365243.0   \n",
       "2         12.0             high         Cash X-Sell: high            365243.0   \n",
       "3         12.0           middle       Cash X-Sell: middle            365243.0   \n",
       "4         24.0             high         Cash Street: high                 NaN   \n",
       "\n",
       "   DAYS_FIRST_DUE  DAYS_LAST_DUE_1ST_VERSION  DAYS_LAST_DUE  DAYS_TERMINATION  \\\n",
       "0           -42.0                      300.0          -42.0             -37.0   \n",
       "1          -134.0                      916.0       365243.0          365243.0   \n",
       "2          -271.0                       59.0       365243.0          365243.0   \n",
       "3          -482.0                     -152.0         -182.0            -177.0   \n",
       "4             NaN                        NaN            NaN               NaN   \n",
       "\n",
       "   NFLAG_INSURED_ON_APPROVAL  \n",
       "0                        0.0  \n",
       "1                        1.0  \n",
       "2                        1.0  \n",
       "3                        1.0  \n",
       "4                        NaN  "
      ]
     },
     "execution_count": 18,
     "metadata": {},
     "output_type": "execute_result"
    }
   ],
   "source": [
    "previous.head()"
   ]
  },
  {
   "cell_type": "code",
   "execution_count": 19,
   "id": "9e03ba78",
   "metadata": {},
   "outputs": [
    {
     "data": {
      "text/plain": [
       "(1670214, 37)"
      ]
     },
     "execution_count": 19,
     "metadata": {},
     "output_type": "execute_result"
    }
   ],
   "source": [
    "previous.shape"
   ]
  },
  {
   "cell_type": "markdown",
   "id": "e860bfa3",
   "metadata": {},
   "source": [
    "- There are 37 columns and 1670214 rows in previous dataset.\n",
    "- it contains previous client details.\n",
    "- some columns are matching with application dataset (AMT_ANNUITY,AMT_CREDIT,  AMT_GOODS_PRICE,  HOUR_APPR_PROCESS_START,  NAME_CONTRACT_TYPE,  NAME_TYPE_SUITE,  SK_ID_CURR,  WEEKDAY_APPR_PROCESS_START)"
   ]
  },
  {
   "cell_type": "markdown",
   "id": "4575a465",
   "metadata": {},
   "source": [
    "### Subtask 2.2.1 : Cleaning and filtering Previous dataset"
   ]
  },
  {
   "cell_type": "code",
   "execution_count": 20,
   "id": "286fcadc",
   "metadata": {},
   "outputs": [],
   "source": [
    "nullcol2 = previous.isnull().sum(axis = 0).sort_values(ascending = False)\n",
    "nullcolper2 = pd.DataFrame(round((nullcol2/len(previous)*100),2)).reset_index()\n",
    "nullcolper2.columns=['column name','null %']\n",
    "nullcolper2['value'] = np.where(nullcolper2['null %']> 50,'Yes','No')\n",
    "nullbool2 = nullcolper2[nullcolper2['value']=='Yes']\n",
    "null2 = nullcolper2[nullcolper2['value']=='Yes']"
   ]
  },
  {
   "cell_type": "code",
   "execution_count": 21,
   "id": "84873379",
   "metadata": {
    "scrolled": true
   },
   "outputs": [
    {
     "data": {
      "text/html": [
       "<div>\n",
       "<style scoped>\n",
       "    .dataframe tbody tr th:only-of-type {\n",
       "        vertical-align: middle;\n",
       "    }\n",
       "\n",
       "    .dataframe tbody tr th {\n",
       "        vertical-align: top;\n",
       "    }\n",
       "\n",
       "    .dataframe thead th {\n",
       "        text-align: right;\n",
       "    }\n",
       "</style>\n",
       "<table border=\"1\" class=\"dataframe\">\n",
       "  <thead>\n",
       "    <tr style=\"text-align: right;\">\n",
       "      <th></th>\n",
       "      <th>column name</th>\n",
       "      <th>null %</th>\n",
       "      <th>value</th>\n",
       "    </tr>\n",
       "  </thead>\n",
       "  <tbody>\n",
       "    <tr>\n",
       "      <th>0</th>\n",
       "      <td>RATE_INTEREST_PRIVILEGED</td>\n",
       "      <td>99.64</td>\n",
       "      <td>Yes</td>\n",
       "    </tr>\n",
       "    <tr>\n",
       "      <th>1</th>\n",
       "      <td>RATE_INTEREST_PRIMARY</td>\n",
       "      <td>99.64</td>\n",
       "      <td>Yes</td>\n",
       "    </tr>\n",
       "    <tr>\n",
       "      <th>2</th>\n",
       "      <td>AMT_DOWN_PAYMENT</td>\n",
       "      <td>53.64</td>\n",
       "      <td>Yes</td>\n",
       "    </tr>\n",
       "    <tr>\n",
       "      <th>3</th>\n",
       "      <td>RATE_DOWN_PAYMENT</td>\n",
       "      <td>53.64</td>\n",
       "      <td>Yes</td>\n",
       "    </tr>\n",
       "  </tbody>\n",
       "</table>\n",
       "</div>"
      ],
      "text/plain": [
       "                column name  null % value\n",
       "0  RATE_INTEREST_PRIVILEGED   99.64   Yes\n",
       "1     RATE_INTEREST_PRIMARY   99.64   Yes\n",
       "2          AMT_DOWN_PAYMENT   53.64   Yes\n",
       "3         RATE_DOWN_PAYMENT   53.64   Yes"
      ]
     },
     "execution_count": 21,
     "metadata": {},
     "output_type": "execute_result"
    }
   ],
   "source": [
    "null2"
   ]
  },
  {
   "cell_type": "markdown",
   "id": "7c0f3f77",
   "metadata": {},
   "source": [
    "- There are two columns with 99.64% which shows that they bearly have values. these columns can be dropped.\n",
    "- We will keep other columns as it is, will use them during analysis."
   ]
  },
  {
   "cell_type": "code",
   "execution_count": 22,
   "id": "660885c1",
   "metadata": {},
   "outputs": [],
   "source": [
    "previous.drop(columns = ['RATE_INTEREST_PRIVILEGED','RATE_INTEREST_PRIMARY'],inplace = True )"
   ]
  },
  {
   "cell_type": "code",
   "execution_count": 23,
   "id": "bb716169",
   "metadata": {},
   "outputs": [
    {
     "data": {
      "text/plain": [
       "(1670214, 35)"
      ]
     },
     "execution_count": 23,
     "metadata": {},
     "output_type": "execute_result"
    }
   ],
   "source": [
    "previous.shape"
   ]
  },
  {
   "cell_type": "markdown",
   "id": "7cac043a",
   "metadata": {},
   "source": [
    "## Task 3 : Data Analysis"
   ]
  },
  {
   "cell_type": "markdown",
   "id": "c16964ac",
   "metadata": {},
   "source": [
    "### Subtask 3.1 : Finding Data Imbalance"
   ]
  },
  {
   "cell_type": "code",
   "execution_count": 24,
   "id": "0f86a81b",
   "metadata": {},
   "outputs": [],
   "source": [
    "repayers = application[application['TARGET']==0]\n",
    "defaulters = application[application['TARGET']==1]"
   ]
  },
  {
   "cell_type": "code",
   "execution_count": 25,
   "id": "4fd0493a",
   "metadata": {},
   "outputs": [],
   "source": [
    "DefaulterPercent = round((len(defaulters)/len(application)*100),2)\n",
    "RepayersPercent = round((len(repayers)/len(application)*100),2)"
   ]
  },
  {
   "cell_type": "code",
   "execution_count": 26,
   "id": "eb80d18c",
   "metadata": {},
   "outputs": [
    {
     "name": "stdout",
     "output_type": "stream",
     "text": [
      "8.07\n",
      "91.93\n"
     ]
    }
   ],
   "source": [
    "print(DefaulterPercent)\n",
    "print(RepayersPercent)"
   ]
  },
  {
   "cell_type": "markdown",
   "id": "c229b7bd",
   "metadata": {},
   "source": [
    "- Data is highly imbalanced as there are only 8% defaulters\n",
    "- defaulter : repayers = 8 : 92"
   ]
  },
  {
   "cell_type": "markdown",
   "id": "52baed69",
   "metadata": {},
   "source": [
    "### Subtask 3.2  : Finding outliers using box plot"
   ]
  },
  {
   "cell_type": "markdown",
   "id": "636a65cc",
   "metadata": {},
   "source": [
    "- for ease i will seperate application data into segments"
   ]
  },
  {
   "cell_type": "code",
   "execution_count": 27,
   "id": "e0290d09",
   "metadata": {
    "scrolled": true
   },
   "outputs": [
    {
     "name": "stdout",
     "output_type": "stream",
     "text": [
      "<class 'pandas.core.frame.DataFrame'>\n",
      "RangeIndex: 307511 entries, 0 to 307510\n",
      "Data columns (total 73 columns):\n",
      " #   Column                       Non-Null Count   Dtype  \n",
      "---  ------                       --------------   -----  \n",
      " 0   SK_ID_CURR                   307511 non-null  int64  \n",
      " 1   TARGET                       307511 non-null  int64  \n",
      " 2   NAME_CONTRACT_TYPE           307511 non-null  object \n",
      " 3   CODE_GENDER                  307511 non-null  object \n",
      " 4   FLAG_OWN_CAR                 307511 non-null  object \n",
      " 5   FLAG_OWN_REALTY              307511 non-null  object \n",
      " 6   CNT_CHILDREN                 307511 non-null  int64  \n",
      " 7   AMT_INCOME_TOTAL             307511 non-null  float64\n",
      " 8   AMT_CREDIT                   307511 non-null  float64\n",
      " 9   AMT_ANNUITY                  307499 non-null  float64\n",
      " 10  AMT_GOODS_PRICE              307233 non-null  float64\n",
      " 11  NAME_TYPE_SUITE              306219 non-null  object \n",
      " 12  NAME_INCOME_TYPE             307511 non-null  object \n",
      " 13  NAME_EDUCATION_TYPE          307511 non-null  object \n",
      " 14  NAME_FAMILY_STATUS           307511 non-null  object \n",
      " 15  NAME_HOUSING_TYPE            307511 non-null  object \n",
      " 16  REGION_POPULATION_RELATIVE   307511 non-null  float64\n",
      " 17  DAYS_BIRTH                   307511 non-null  int64  \n",
      " 18  DAYS_EMPLOYED                307511 non-null  int64  \n",
      " 19  DAYS_REGISTRATION            307511 non-null  float64\n",
      " 20  DAYS_ID_PUBLISH              307511 non-null  int64  \n",
      " 21  FLAG_MOBIL                   307511 non-null  int64  \n",
      " 22  FLAG_EMP_PHONE               307511 non-null  int64  \n",
      " 23  FLAG_WORK_PHONE              307511 non-null  int64  \n",
      " 24  FLAG_CONT_MOBILE             307511 non-null  int64  \n",
      " 25  FLAG_PHONE                   307511 non-null  int64  \n",
      " 26  FLAG_EMAIL                   307511 non-null  int64  \n",
      " 27  OCCUPATION_TYPE              211120 non-null  object \n",
      " 28  CNT_FAM_MEMBERS              307509 non-null  float64\n",
      " 29  REGION_RATING_CLIENT         307511 non-null  int64  \n",
      " 30  REGION_RATING_CLIENT_W_CITY  307511 non-null  int64  \n",
      " 31  WEEKDAY_APPR_PROCESS_START   307511 non-null  object \n",
      " 32  HOUR_APPR_PROCESS_START      307511 non-null  int64  \n",
      " 33  REG_REGION_NOT_LIVE_REGION   307511 non-null  int64  \n",
      " 34  REG_REGION_NOT_WORK_REGION   307511 non-null  int64  \n",
      " 35  LIVE_REGION_NOT_WORK_REGION  307511 non-null  int64  \n",
      " 36  REG_CITY_NOT_LIVE_CITY       307511 non-null  int64  \n",
      " 37  REG_CITY_NOT_WORK_CITY       307511 non-null  int64  \n",
      " 38  LIVE_CITY_NOT_WORK_CITY      307511 non-null  int64  \n",
      " 39  ORGANIZATION_TYPE            307511 non-null  object \n",
      " 40  EXT_SOURCE_2                 306851 non-null  float64\n",
      " 41  EXT_SOURCE_3                 246546 non-null  float64\n",
      " 42  OBS_30_CNT_SOCIAL_CIRCLE     306490 non-null  float64\n",
      " 43  DEF_30_CNT_SOCIAL_CIRCLE     306490 non-null  float64\n",
      " 44  OBS_60_CNT_SOCIAL_CIRCLE     306490 non-null  float64\n",
      " 45  DEF_60_CNT_SOCIAL_CIRCLE     306490 non-null  float64\n",
      " 46  DAYS_LAST_PHONE_CHANGE       307510 non-null  float64\n",
      " 47  FLAG_DOCUMENT_2              307511 non-null  int64  \n",
      " 48  FLAG_DOCUMENT_3              307511 non-null  int64  \n",
      " 49  FLAG_DOCUMENT_4              307511 non-null  int64  \n",
      " 50  FLAG_DOCUMENT_5              307511 non-null  int64  \n",
      " 51  FLAG_DOCUMENT_6              307511 non-null  int64  \n",
      " 52  FLAG_DOCUMENT_7              307511 non-null  int64  \n",
      " 53  FLAG_DOCUMENT_8              307511 non-null  int64  \n",
      " 54  FLAG_DOCUMENT_9              307511 non-null  int64  \n",
      " 55  FLAG_DOCUMENT_10             307511 non-null  int64  \n",
      " 56  FLAG_DOCUMENT_11             307511 non-null  int64  \n",
      " 57  FLAG_DOCUMENT_12             307511 non-null  int64  \n",
      " 58  FLAG_DOCUMENT_13             307511 non-null  int64  \n",
      " 59  FLAG_DOCUMENT_14             307511 non-null  int64  \n",
      " 60  FLAG_DOCUMENT_15             307511 non-null  int64  \n",
      " 61  FLAG_DOCUMENT_16             307511 non-null  int64  \n",
      " 62  FLAG_DOCUMENT_17             307511 non-null  int64  \n",
      " 63  FLAG_DOCUMENT_18             307511 non-null  int64  \n",
      " 64  FLAG_DOCUMENT_19             307511 non-null  int64  \n",
      " 65  FLAG_DOCUMENT_20             307511 non-null  int64  \n",
      " 66  FLAG_DOCUMENT_21             307511 non-null  int64  \n",
      " 67  AMT_REQ_CREDIT_BUREAU_HOUR   265992 non-null  float64\n",
      " 68  AMT_REQ_CREDIT_BUREAU_DAY    265992 non-null  float64\n",
      " 69  AMT_REQ_CREDIT_BUREAU_WEEK   265992 non-null  float64\n",
      " 70  AMT_REQ_CREDIT_BUREAU_MON    265992 non-null  float64\n",
      " 71  AMT_REQ_CREDIT_BUREAU_QRT    265992 non-null  float64\n",
      " 72  AMT_REQ_CREDIT_BUREAU_YEAR   265992 non-null  float64\n",
      "dtypes: float64(20), int64(41), object(12)\n",
      "memory usage: 171.3+ MB\n"
     ]
    }
   ],
   "source": [
    "application.info('all')"
   ]
  },
  {
   "cell_type": "code",
   "execution_count": 28,
   "id": "0b1b3ee2",
   "metadata": {},
   "outputs": [],
   "source": [
    "#random columns\n",
    "randomCol = ['CODE_GENDER','CNT_CHILDREN','OCCUPATION_TYPE','CNT_FAM_MEMBERS','ORGANIZATION_TYPE']"
   ]
  },
  {
   "cell_type": "code",
   "execution_count": 29,
   "id": "5c920fa1",
   "metadata": {},
   "outputs": [],
   "source": [
    "#columns contains names\n",
    "nameCol = ['NAME_CONTRACT_TYPE','NAME_TYPE_SUITE','NAME_INCOME_TYPE','NAME_EDUCATION_TYPE','NAME_FAMILY_STATUS','NAME_HOUSING_TYPE']"
   ]
  },
  {
   "cell_type": "code",
   "execution_count": 30,
   "id": "7f6b2fe7",
   "metadata": {},
   "outputs": [],
   "source": [
    "#amount contains amount of loan, salary, annuity, etc.\n",
    "amountCol = ['AMT_INCOME_TOTAL','AMT_CREDIT','AMT_ANNUITY','AMT_GOODS_PRICE','AMT_REQ_CREDIT_BUREAU_HOUR','AMT_REQ_CREDIT_BUREAU_DAY','AMT_REQ_CREDIT_BUREAU_WEEK','AMT_REQ_CREDIT_BUREAU_MON','AMT_REQ_CREDIT_BUREAU_QRT','AMT_REQ_CREDIT_BUREAU_YEAR']"
   ]
  },
  {
   "cell_type": "code",
   "execution_count": 31,
   "id": "0ee41d83",
   "metadata": {},
   "outputs": [],
   "source": [
    "#columns contains flag (yes or no)\n",
    "flag = ['FLAG_OWN_CAR', 'FLAG_OWN_REALTY','FLAG_MOBIL','FLAG_EMP_PHONE', 'FLAG_WORK_PHONE', 'FLAG_CONT_MOBILE', 'FLAG_PHONE','FLAG_EMAIL','FLAG_DOCUMENT_2', 'FLAG_DOCUMENT_3',\n",
    "       'FLAG_DOCUMENT_4', 'FLAG_DOCUMENT_5', 'FLAG_DOCUMENT_6',\n",
    "       'FLAG_DOCUMENT_7', 'FLAG_DOCUMENT_8', 'FLAG_DOCUMENT_9',\n",
    "       'FLAG_DOCUMENT_10', 'FLAG_DOCUMENT_11', 'FLAG_DOCUMENT_12',\n",
    "       'FLAG_DOCUMENT_13', 'FLAG_DOCUMENT_14', 'FLAG_DOCUMENT_15',\n",
    "       'FLAG_DOCUMENT_16', 'FLAG_DOCUMENT_17', 'FLAG_DOCUMENT_18',\n",
    "       'FLAG_DOCUMENT_19', 'FLAG_DOCUMENT_20', 'FLAG_DOCUMENT_21',]"
   ]
  },
  {
   "cell_type": "code",
   "execution_count": 32,
   "id": "7025d3d5",
   "metadata": {},
   "outputs": [
    {
     "data": {
      "text/plain": [
       "[(0, 'AMT_INCOME_TOTAL'),\n",
       " (1, 'AMT_CREDIT'),\n",
       " (2, 'AMT_ANNUITY'),\n",
       " (3, 'AMT_GOODS_PRICE'),\n",
       " (4, 'AMT_REQ_CREDIT_BUREAU_HOUR'),\n",
       " (5, 'AMT_REQ_CREDIT_BUREAU_DAY'),\n",
       " (6, 'AMT_REQ_CREDIT_BUREAU_WEEK'),\n",
       " (7, 'AMT_REQ_CREDIT_BUREAU_MON'),\n",
       " (8, 'AMT_REQ_CREDIT_BUREAU_QRT'),\n",
       " (9, 'AMT_REQ_CREDIT_BUREAU_YEAR')]"
      ]
     },
     "execution_count": 32,
     "metadata": {},
     "output_type": "execute_result"
    }
   ],
   "source": [
    "list(enumerate(amountCol))"
   ]
  },
  {
   "cell_type": "code",
   "execution_count": 33,
   "id": "d636b7fa",
   "metadata": {},
   "outputs": [
    {
     "data": {
      "image/png": "[encoded data removed]",
      "text/plain": [
       "<Figure size 2880x1440 with 10 Axes>"
      ]
     },
     "metadata": {
      "needs_background": "light"
     },
     "output_type": "display_data"
    }
   ],
   "source": [
    "plt.figure(figsize= (40,20))\n",
    "for i in enumerate(amountCol):\n",
    "    plt.subplot(2,5,i[0]+1)\n",
    "    sns.boxplot(i[1],data = application)"
   ]
  },
  {
   "cell_type": "markdown",
   "id": "1fa0c09c",
   "metadata": {},
   "source": [
    "- Columns such as AMT_CREDIT ,AMT_ANNUITY,AMT_GOOD_PRICE contains large number of outliers.\n",
    "- as the columns are continous we will use median to impute values"
   ]
  },
  {
   "cell_type": "code",
   "execution_count": 34,
   "id": "2ecce515",
   "metadata": {},
   "outputs": [
    {
     "name": "stdout",
     "output_type": "stream",
     "text": [
      "The Q1 value is: 270000.0\n",
      "The Q3 value is: 808650.0\n",
      "The IQR value is: 538650.0\n",
      "The upper limit value is: 1616625.0\n",
      "The lower limit value is: -537975.0\n",
      "outlier percentage --- 2 %\n"
     ]
    }
   ],
   "source": [
    "#AMT_CREDIT COLUMN\n",
    "Q1 = np.quantile(application['AMT_CREDIT'], 0.25)\n",
    "Q3 = np.quantile(application['AMT_CREDIT'], 0.75)\n",
    "IQR = Q3 - Q1\n",
    "UL = Q3 + (1.5*IQR)\n",
    "LL = Q1 - (1.5*IQR)\n",
    "print(\"The Q1 value is:\", Q1)\n",
    "print(\"The Q3 value is:\", Q3)\n",
    "print(\"The IQR value is:\", IQR)\n",
    "print(\"The upper limit value is:\", UL)\n",
    "print(\"The lower limit value is:\", LL)\n",
    "amt_credit_outliers = application['AMT_CREDIT'][application['AMT_CREDIT'] > UL].count()\n",
    "print('outlier percentage ---',round((amt_credit_outliers/len(application['AMT_CREDIT']))*100),'%')"
   ]
  },
  {
   "cell_type": "markdown",
   "id": "5858ffc4",
   "metadata": {},
   "source": [
    "- col AMT_CREDIT contains less than 5% outliers. we can use median or we can keep it as it is"
   ]
  },
  {
   "cell_type": "code",
   "execution_count": 35,
   "id": "7ff34231",
   "metadata": {},
   "outputs": [
    {
     "data": {
      "text/plain": [
       "0"
      ]
     },
     "execution_count": 35,
     "metadata": {},
     "output_type": "execute_result"
    }
   ],
   "source": [
    "application['AMT_ANNUITY'].fillna(value = application['AMT_ANNUITY'].mean() ,inplace = True)\n",
    "application['AMT_ANNUITY'].isnull().sum()"
   ]
  },
  {
   "cell_type": "code",
   "execution_count": 36,
   "id": "8060b6ac",
   "metadata": {},
   "outputs": [
    {
     "name": "stdout",
     "output_type": "stream",
     "text": [
      "The Q1 value is: 16524.0\n",
      "The Q3 value is: 34596.0\n",
      "The IQR value is: 18072.0\n",
      "The upper limit value is: 61704.0\n",
      "The lower limit value is: -10584.0\n",
      "outlier percentage --- 2 %\n"
     ]
    }
   ],
   "source": [
    "#AMT_ANNUITY COLUMN\n",
    "Q1 = np.quantile(application['AMT_ANNUITY'], 0.25)\n",
    "Q3 = np.quantile(application['AMT_ANNUITY'], 0.75)\n",
    "IQR = Q3 - Q1\n",
    "UL = Q3 + (1.5*IQR)\n",
    "LL = Q1 - (1.5*IQR)\n",
    "print(\"The Q1 value is:\", Q1)\n",
    "print(\"The Q3 value is:\", Q3)\n",
    "print(\"The IQR value is:\", IQR)\n",
    "print(\"The upper limit value is:\", UL)\n",
    "print(\"The lower limit value is:\", LL)\n",
    "amt_annuity_outliers = application['AMT_ANNUITY'][application['AMT_ANNUITY'] > UL].count()\n",
    "print('outlier percentage ---',round((amt_annuity_outliers/len(application['AMT_ANNUITY']))*100),'%')"
   ]
  },
  {
   "cell_type": "markdown",
   "id": "5eccb868",
   "metadata": {},
   "source": [
    "\n",
    "- col AMT_ANNUITY contains less than 5% outliers. we can use median or we can keep it as it is"
   ]
  },
  {
   "cell_type": "code",
   "execution_count": 37,
   "id": "a0eb1ed3",
   "metadata": {},
   "outputs": [
    {
     "data": {
      "text/plain": [
       "0"
      ]
     },
     "execution_count": 37,
     "metadata": {},
     "output_type": "execute_result"
    }
   ],
   "source": [
    "application['AMT_GOODS_PRICE'].fillna(value = application['AMT_GOODS_PRICE'].mean() ,inplace = True)\n",
    "application['AMT_GOODS_PRICE'].isnull().sum()"
   ]
  },
  {
   "cell_type": "code",
   "execution_count": 38,
   "id": "311af37d",
   "metadata": {},
   "outputs": [
    {
     "name": "stdout",
     "output_type": "stream",
     "text": [
      "The Q1 value is: 238500.0\n",
      "The Q3 value is: 679500.0\n",
      "The IQR value is: 441000.0\n",
      "The upper limit value is: 1341000.0\n",
      "The lower limit value is: -423000.0\n",
      "Outlier percentage -- 5 %\n"
     ]
    }
   ],
   "source": [
    "#AMT_GOODS_PRICE COLUMN\n",
    "Q1 = np.quantile(application['AMT_GOODS_PRICE'], 0.25)\n",
    "Q3 = np.quantile(application['AMT_GOODS_PRICE'], 0.75)\n",
    "IQR = Q3 - Q1\n",
    "UL = Q3 + (1.5*IQR)\n",
    "LL = Q1 - (1.5*IQR)\n",
    "print(\"The Q1 value is:\", Q1)\n",
    "print(\"The Q3 value is:\", Q3)\n",
    "print(\"The IQR value is:\", IQR)\n",
    "print(\"The upper limit value is:\", UL)\n",
    "print(\"The lower limit value is:\", LL)\n",
    "amt_goods_price_outliers = application['AMT_GOODS_PRICE'][application['AMT_GOODS_PRICE'] > UL].count()\n",
    "print('Outlier percentage --',round((amt_goods_price_outliers/len(application['AMT_GOODS_PRICE']))*100),'%')"
   ]
  },
  {
   "cell_type": "markdown",
   "id": "47ee11ca",
   "metadata": {},
   "source": [
    "- col AMT_ANNUITY contains 5% outliers. we can use median or we can keep it as it is"
   ]
  },
  {
   "cell_type": "markdown",
   "id": "7dc2fe4e",
   "metadata": {},
   "source": [
    "### Subtask 3.3 : Analysis on Application dataset"
   ]
  },
  {
   "cell_type": "code",
   "execution_count": 39,
   "id": "883de0d5",
   "metadata": {},
   "outputs": [],
   "source": [
    "# variable list containing only categorical variables\n",
    "var_cat = pd.DataFrame(['NAME_CONTRACT_TYPE','CODE_GENDER','NAME_TYPE_SUITE','NAME_INCOME_TYPE','NAME_EDUCATION_TYPE','NAME_FAMILY_STATUS','NAME_HOUSING_TYPE','OCCUPATION_TYPE'])"
   ]
  },
  {
   "cell_type": "code",
   "execution_count": 40,
   "id": "261e72de",
   "metadata": {},
   "outputs": [],
   "source": [
    "# variable list containing only numerical variables\n",
    "var_num = ['CNT_CHILDREN','AMT_INCOME_TOTAL','AMT_CREDIT','AMT_ANNUITY','AMT_GOODS_PRICE','CNT_FAM_MEMBERS']"
   ]
  },
  {
   "cell_type": "markdown",
   "id": "c509f87f",
   "metadata": {},
   "source": [
    "### Subtask 3.3.1 : Univariate categorical analysis"
   ]
  },
  {
   "cell_type": "markdown",
   "id": "3c97a263",
   "metadata": {},
   "source": [
    "- CODE GENDER"
   ]
  },
  {
   "cell_type": "code",
   "execution_count": 41,
   "id": "478688be",
   "metadata": {},
   "outputs": [
    {
     "data": {
      "text/plain": [
       "<AxesSubplot:xlabel='CODE_GENDER', ylabel='count'>"
      ]
     },
     "execution_count": 41,
     "metadata": {},
     "output_type": "execute_result"
    },
    {
     "data": {
      "image/png": "[encoded data removed]",
      "text/plain": [
       "<Figure size 720x576 with 1 Axes>"
      ]
     },
     "metadata": {
      "needs_background": "light"
     },
     "output_type": "display_data"
    }
   ],
   "source": [
    "plt.figure(figsize = (10,8) )\n",
    "sns.countplot(application['CODE_GENDER'],hue = application['TARGET'])"
   ]
  },
  {
   "cell_type": "code",
   "execution_count": 42,
   "id": "07769042",
   "metadata": {},
   "outputs": [
    {
     "name": "stdout",
     "output_type": "stream",
     "text": [
      "Percentage of defaulter Male :  43 %\n",
      "Percentage of defaulter Female :  57 %\n"
     ]
    }
   ],
   "source": [
    "a = pd.DataFrame(application['TARGET'])\n",
    "a['Gen'] = pd.DataFrame(application['CODE_GENDER'])\n",
    "b2 = a[a['TARGET']==1]\n",
    "defaulterMale = b2[b2['Gen']== 'M']\n",
    "defaulterFemale = b2[b2['Gen']=='F']\n",
    "print('Percentage of defaulter Male : ',round((len(defaulterMale)/len(b2))*100),'%')\n",
    "print('Percentage of defaulter Female : ',round((len(defaulterFemale)/len(b2))*100),'%')"
   ]
  },
  {
   "cell_type": "markdown",
   "id": "789fdd4e",
   "metadata": {},
   "source": [
    "- application dataset contains more number of female defaulters than male. \n",
    "- as female application count is almost double than female , hence more chance of defaluting. "
   ]
  },
  {
   "cell_type": "markdown",
   "id": "b73589dc",
   "metadata": {},
   "source": [
    "- EDUCATION TYPE"
   ]
  },
  {
   "cell_type": "code",
   "execution_count": 43,
   "id": "94998014",
   "metadata": {},
   "outputs": [
    {
     "data": {
      "text/plain": [
       "<AxesSubplot:xlabel='NAME_EDUCATION_TYPE', ylabel='count'>"
      ]
     },
     "execution_count": 43,
     "metadata": {},
     "output_type": "execute_result"
    },
    {
     "data": {
      "image/png": "[encoded data removed]",
      "text/plain": [
       "<Figure size 1080x576 with 1 Axes>"
      ]
     },
     "metadata": {
      "needs_background": "light"
     },
     "output_type": "display_data"
    }
   ],
   "source": [
    "plt.figure(figsize = (15,8) )\n",
    "sns.countplot(application['NAME_EDUCATION_TYPE'],hue = application['TARGET'])"
   ]
  },
  {
   "cell_type": "code",
   "execution_count": 44,
   "id": "4ef05443",
   "metadata": {
    "scrolled": true
   },
   "outputs": [
    {
     "name": "stdout",
     "output_type": "stream",
     "text": [
      "Percentage of defaulter Secondary special :  79 %\n",
      "Percentage of defaulter Higher education :  16 %\n",
      "Percentage of defaulter Incomplete higher :  4 %\n",
      "Percentage of defaulter Lower secondary :  2 %\n",
      "Percentage of defaulter Academic degree :  0 %\n"
     ]
    }
   ],
   "source": [
    "a = pd.DataFrame(application['TARGET'])\n",
    "a['EDU'] = pd.DataFrame(application['NAME_EDUCATION_TYPE'])\n",
    "b2 = a[a['TARGET']==1]\n",
    "defaulterSec = b2[b2['EDU']== 'Secondary / secondary special']\n",
    "defaulterHigh = b2[b2['EDU']=='Higher education']\n",
    "defaulterIHigh = b2[b2['EDU']=='Incomplete higher']\n",
    "defaulterlsec = b2[b2['EDU']=='Lower secondary']\n",
    "defaulterAD = b2[b2['EDU']=='Academic degree']\n",
    "\n",
    "print('Percentage of defaulter Secondary special : ',round((len(defaulterSec)/len(b2))*100),'%')\n",
    "print('Percentage of defaulter Higher education : ',round((len(defaulterHigh)/len(b2))*100),'%')\n",
    "print('Percentage of defaulter Incomplete higher : ',round((len(defaulterIHigh)/len(b2))*100),'%')\n",
    "print('Percentage of defaulter Lower secondary : ',round((len(defaulterlsec)/len(b2))*100),'%')\n",
    "print('Percentage of defaulter Academic degree : ',round((len(defaulterAD)/len(b2))*100),'%')"
   ]
  },
  {
   "cell_type": "markdown",
   "id": "7011a302",
   "metadata": {},
   "source": [
    "- Secondary / secondary special has almost 80% of defaluters."
   ]
  },
  {
   "cell_type": "markdown",
   "id": "1b60dbfb",
   "metadata": {},
   "source": [
    "- CONTRACT TYPE"
   ]
  },
  {
   "cell_type": "code",
   "execution_count": 45,
   "id": "7fa10413",
   "metadata": {},
   "outputs": [
    {
     "data": {
      "text/plain": [
       "<AxesSubplot:xlabel='NAME_CONTRACT_TYPE', ylabel='count'>"
      ]
     },
     "execution_count": 45,
     "metadata": {},
     "output_type": "execute_result"
    },
    {
     "data": {
      "image/png": "[encoded data removed]",
      "text/plain": [
       "<Figure size 720x576 with 1 Axes>"
      ]
     },
     "metadata": {
      "needs_background": "light"
     },
     "output_type": "display_data"
    }
   ],
   "source": [
    "plt.figure(figsize = (10,8) )\n",
    "sns.countplot(application['NAME_CONTRACT_TYPE'],hue = application['TARGET'])"
   ]
  },
  {
   "cell_type": "code",
   "execution_count": 46,
   "id": "c04e0e3b",
   "metadata": {},
   "outputs": [
    {
     "name": "stdout",
     "output_type": "stream",
     "text": [
      "Percentage of defaulter in Cash loans :  94 %\n",
      "Percentage of defaulter in Revolving loan :  6 %\n"
     ]
    }
   ],
   "source": [
    "a = pd.DataFrame(application['TARGET'])\n",
    "a['Con'] = pd.DataFrame(application['NAME_CONTRACT_TYPE'])\n",
    "b2 = a[a['TARGET']==1]\n",
    "defaulterCl = b2[b2['Con']== 'Cash loans']\n",
    "defaulterRL = b2[b2['Con']=='Revolving loans']\n",
    "print('Percentage of defaulter in Cash loans : ',round((len(defaulterCl)/len(b2))*100),'%')\n",
    "print('Percentage of defaulter in Revolving loan : ',round((len(defaulterRL)/len(b2))*100),'%')"
   ]
  },
  {
   "cell_type": "markdown",
   "id": "4fc5c480",
   "metadata": {},
   "source": [
    "- cash loans has more % of defaulters, results due to more number of application."
   ]
  },
  {
   "cell_type": "markdown",
   "id": "9ab1a8ce",
   "metadata": {},
   "source": [
    "- INCOME TYPE"
   ]
  },
  {
   "cell_type": "code",
   "execution_count": 47,
   "id": "e24b3fac",
   "metadata": {},
   "outputs": [
    {
     "data": {
      "text/plain": [
       "<AxesSubplot:xlabel='NAME_INCOME_TYPE', ylabel='count'>"
      ]
     },
     "execution_count": 47,
     "metadata": {},
     "output_type": "execute_result"
    },
    {
     "data": {
      "image/png": "[encoded data removed]",
      "text/plain": [
       "<Figure size 1080x576 with 1 Axes>"
      ]
     },
     "metadata": {
      "needs_background": "light"
     },
     "output_type": "display_data"
    }
   ],
   "source": [
    "plt.figure(figsize = (15,8) )\n",
    "sns.countplot(application['NAME_INCOME_TYPE'],hue = application['TARGET'])"
   ]
  },
  {
   "cell_type": "code",
   "execution_count": 48,
   "id": "a48685b7",
   "metadata": {},
   "outputs": [
    {
     "name": "stdout",
     "output_type": "stream",
     "text": [
      "Percentage of defaulter Working :  61 %\n",
      "Percentage of defaulter State servant :  5 %\n",
      "Percentage of defaulter Commercial associate :  22 %\n",
      "Percentage of defaulter Pensioner :  12 %\n",
      "Percentage of defaulter Unemployed :  0 %\n",
      "Percentage of defaulter Student :  0 %\n",
      "Percentage of defaulter Businessman :  0 %\n",
      "Percentage of defaulter Maternity leave :  0 %\n"
     ]
    }
   ],
   "source": [
    "a = pd.DataFrame(application['TARGET'])\n",
    "a['INC'] = pd.DataFrame(application['NAME_INCOME_TYPE'])\n",
    "b2 = a[a['TARGET']==1]\n",
    "defaulterWorking = b2[b2['INC']== 'Working']\n",
    "defaulterStateServant = b2[b2['INC']=='State servant']\n",
    "defaulterICommercial_associate = b2[b2['INC']=='Commercial associate']\n",
    "defaulterPensioner = b2[b2['INC']=='Pensioner']\n",
    "defaulterUnemployed = b2[b2['INC']=='Unemployed']\n",
    "defaulterStudent = b2[b2['INC']=='Student']\n",
    "defaulterBusinessman = b2[b2['INC']=='Businessman']\n",
    "defaulterMaternity_leave = b2[b2['INC']=='Maternity leave']\n",
    "\n",
    "print('Percentage of defaulter Working : ',round((len(defaulterWorking)/len(b2))*100),'%')\n",
    "print('Percentage of defaulter State servant : ',round((len(defaulterStateServant)/len(b2))*100),'%')\n",
    "print('Percentage of defaulter Commercial associate : ',round((len(defaulterICommercial_associate)/len(b2))*100),'%')\n",
    "print('Percentage of defaulter Pensioner : ',round((len(defaulterPensioner)/len(b2))*100),'%')\n",
    "print('Percentage of defaulter Unemployed : ',round((len(defaulterUnemployed)/len(b2))*100),'%')\n",
    "print('Percentage of defaulter Student : ',round((len(defaulterStudent)/len(b2))*100),'%')\n",
    "print('Percentage of defaulter Businessman : ',round((len(defaulterBusinessman)/len(b2))*100),'%')\n",
    "print('Percentage of defaulter Maternity leave : ',round((len(defaulterMaternity_leave)/len(b2))*100),'%')"
   ]
  },
  {
   "cell_type": "markdown",
   "id": "6ea77b50",
   "metadata": {},
   "source": [
    "- Working class contains most number of defaulters --69%\n",
    "- commercial associate."
   ]
  },
  {
   "cell_type": "markdown",
   "id": "f7030721",
   "metadata": {},
   "source": [
    "- FAMILY STATUS"
   ]
  },
  {
   "cell_type": "code",
   "execution_count": 49,
   "id": "b63c96ab",
   "metadata": {},
   "outputs": [
    {
     "data": {
      "text/plain": [
       "array(['Single / not married', 'Married', 'Civil marriage', 'Widow',\n",
       "       'Separated', 'Unknown'], dtype=object)"
      ]
     },
     "execution_count": 49,
     "metadata": {},
     "output_type": "execute_result"
    }
   ],
   "source": [
    "application['NAME_FAMILY_STATUS'].unique()"
   ]
  },
  {
   "cell_type": "code",
   "execution_count": 50,
   "id": "b3df29a1",
   "metadata": {},
   "outputs": [
    {
     "data": {
      "text/plain": [
       "<AxesSubplot:xlabel='NAME_FAMILY_STATUS', ylabel='count'>"
      ]
     },
     "execution_count": 50,
     "metadata": {},
     "output_type": "execute_result"
    },
    {
     "data": {
      "image/png": "[encoded data removed]",
      "text/plain": [
       "<Figure size 720x576 with 1 Axes>"
      ]
     },
     "metadata": {
      "needs_background": "light"
     },
     "output_type": "display_data"
    }
   ],
   "source": [
    "plt.figure(figsize = (10,8) )\n",
    "sns.countplot(application['NAME_FAMILY_STATUS'],hue = application['TARGET'])"
   ]
  },
  {
   "cell_type": "code",
   "execution_count": 51,
   "id": "c1a9e935",
   "metadata": {
    "scrolled": true
   },
   "outputs": [
    {
     "name": "stdout",
     "output_type": "stream",
     "text": [
      "Percentage of defaulter Single / not married :  18 %\n",
      "Percentage of defaulter Married :  60 %\n",
      "Percentage of defaulter Civil marriage :  12 %\n",
      "Percentage of defaulter Widow :  4 %\n",
      "Percentage of defaulter Separated :  7 %\n",
      "Percentage of defaulter Unknown :  0 %\n"
     ]
    }
   ],
   "source": [
    "a = pd.DataFrame(application['TARGET'])\n",
    "a['FAM'] = pd.DataFrame(application['NAME_FAMILY_STATUS'])\n",
    "b2 = a[a['TARGET']==1]\n",
    "defaulterSingle = b2[b2['FAM']== 'Single / not married']\n",
    "defaulterMarried = b2[b2['FAM']=='Married']\n",
    "defaulterCivil_marriage = b2[b2['FAM']=='Civil marriage']\n",
    "defaulterWidow = b2[b2['FAM']=='Widow']\n",
    "defaulterSeparated = b2[b2['FAM']=='Separated']\n",
    "defaulterUnknown = b2[b2['FAM']=='Unknown']\n",
    "\n",
    "print('Percentage of defaulter Single / not married : ',round((len(defaulterSingle)/len(b2))*100),'%')\n",
    "print('Percentage of defaulter Married : ',round((len(defaulterMarried)/len(b2))*100),'%')\n",
    "print('Percentage of defaulter Civil marriage : ',round((len(defaulterCivil_marriage)/len(b2))*100),'%')\n",
    "print('Percentage of defaulter Widow : ',round((len(defaulterWidow)/len(b2))*100),'%')\n",
    "print('Percentage of defaulter Separated : ',round((len(defaulterSeparated)/len(b2))*100),'%')\n",
    "print('Percentage of defaulter Unknown : ',round((len(defaulterUnknown)/len(b2))*100),'%')\n"
   ]
  },
  {
   "cell_type": "markdown",
   "id": "702dc204",
   "metadata": {},
   "source": [
    "- More amount of married people wants loan.\n",
    "- Chances of default is more with Married people."
   ]
  },
  {
   "cell_type": "markdown",
   "id": "cdfc89e8",
   "metadata": {},
   "source": [
    "- HOUSING TYPE"
   ]
  },
  {
   "cell_type": "code",
   "execution_count": 52,
   "id": "6a059d4c",
   "metadata": {},
   "outputs": [
    {
     "data": {
      "text/plain": [
       "<AxesSubplot:xlabel='NAME_HOUSING_TYPE', ylabel='count'>"
      ]
     },
     "execution_count": 52,
     "metadata": {},
     "output_type": "execute_result"
    },
    {
     "data": {
      "image/png": "[encoded data removed]",
      "text/plain": [
       "<Figure size 1080x576 with 1 Axes>"
      ]
     },
     "metadata": {
      "needs_background": "light"
     },
     "output_type": "display_data"
    }
   ],
   "source": [
    "plt.figure(figsize = (15,8) )\n",
    "sns.countplot(application['NAME_HOUSING_TYPE'],hue = application['TARGET'])"
   ]
  },
  {
   "cell_type": "code",
   "execution_count": 53,
   "id": "6e44d95c",
   "metadata": {},
   "outputs": [
    {
     "data": {
      "text/plain": [
       "array(['House / apartment', 'Rented apartment', 'With parents',\n",
       "       'Municipal apartment', 'Office apartment', 'Co-op apartment'],\n",
       "      dtype=object)"
      ]
     },
     "execution_count": 53,
     "metadata": {},
     "output_type": "execute_result"
    }
   ],
   "source": [
    "application['NAME_HOUSING_TYPE'].unique()"
   ]
  },
  {
   "cell_type": "code",
   "execution_count": 54,
   "id": "882c5698",
   "metadata": {
    "scrolled": true
   },
   "outputs": [
    {
     "name": "stdout",
     "output_type": "stream",
     "text": [
      "Percentage of defaulter House / apartment :  86 %\n",
      "Percentage of defaulter Rented apartment :  2 %\n",
      "Percentage of defaulter With parents :  7 %\n",
      "Percentage of defaulter Municipal apartment :  4 %\n",
      "Percentage of defaulter Office apartment :  1 %\n",
      "Percentage of defaulter Co-op apartment :  0 %\n"
     ]
    }
   ],
   "source": [
    "a = pd.DataFrame(application['TARGET'])\n",
    "a['HOU'] = pd.DataFrame(application['NAME_HOUSING_TYPE'])\n",
    "b2 = a[a['TARGET']==1]\n",
    "defaulterHouse = b2[b2['HOU']== 'House / apartment']\n",
    "defaulterRENTED = b2[b2['HOU']=='Rented apartment']\n",
    "defaulterWP = b2[b2['HOU']=='With parents']\n",
    "defaulterMa = b2[b2['HOU']=='Municipal apartment']\n",
    "defaulterOA = b2[b2['HOU']=='Office apartment']\n",
    "defaulterCOA = b2[b2['HOU']=='Co-op apartment']\n",
    "\n",
    "\n",
    "print('Percentage of defaulter House / apartment : ',round((len(defaulterHouse)/len(b2))*100),'%')\n",
    "print('Percentage of defaulter Rented apartment : ',round((len(defaulterRENTED)/len(b2))*100),'%')\n",
    "print('Percentage of defaulter With parents : ',round((len(defaulterWP)/len(b2))*100),'%')\n",
    "print('Percentage of defaulter Municipal apartment : ',round((len(defaulterMa)/len(b2))*100),'%')\n",
    "print('Percentage of defaulter Office apartment : ',round((len(defaulterOA)/len(b2))*100),'%')\n",
    "print('Percentage of defaulter Co-op apartment : ',round((len(defaulterCOA)/len(b2))*100),'%')"
   ]
  },
  {
   "cell_type": "markdown",
   "id": "c7624017",
   "metadata": {},
   "source": [
    "- Count of house/ apartment is the most.\n",
    "- on Second position people living with there parents default more than any other category.\n",
    "- people who owns house / apartment tend to default more"
   ]
  },
  {
   "cell_type": "markdown",
   "id": "8b234385",
   "metadata": {},
   "source": [
    "- OCCUPATION TYPE"
   ]
  },
  {
   "cell_type": "code",
   "execution_count": 55,
   "id": "b07aedfc",
   "metadata": {},
   "outputs": [
    {
     "data": {
      "text/plain": [
       "<AxesSubplot:xlabel='OCCUPATION_TYPE', ylabel='count'>"
      ]
     },
     "execution_count": 55,
     "metadata": {},
     "output_type": "execute_result"
    },
    {
     "data": {
      "image/png": "[encoded data removed]",
      "text/plain": [
       "<Figure size 2160x1080 with 1 Axes>"
      ]
     },
     "metadata": {
      "needs_background": "light"
     },
     "output_type": "display_data"
    }
   ],
   "source": [
    "plt.figure(figsize = (30,15) )\n",
    "sns.countplot(application['OCCUPATION_TYPE'],hue = application['TARGET'])"
   ]
  },
  {
   "cell_type": "code",
   "execution_count": 56,
   "id": "3e4ff9a7",
   "metadata": {},
   "outputs": [
    {
     "data": {
      "text/plain": [
       "array(['Laborers', 'Core staff', 'Accountants', 'Managers', nan,\n",
       "       'Drivers', 'Sales staff', 'Cleaning staff', 'Cooking staff',\n",
       "       'Private service staff', 'Medicine staff', 'Security staff',\n",
       "       'High skill tech staff', 'Waiters/barmen staff',\n",
       "       'Low-skill Laborers', 'Realty agents', 'Secretaries', 'IT staff',\n",
       "       'HR staff'], dtype=object)"
      ]
     },
     "execution_count": 56,
     "metadata": {},
     "output_type": "execute_result"
    }
   ],
   "source": [
    "application['OCCUPATION_TYPE'].unique()"
   ]
  },
  {
   "cell_type": "code",
   "execution_count": 57,
   "id": "7be98900",
   "metadata": {},
   "outputs": [],
   "source": [
    "application.OCCUPATION_TYPE.fillna(value = 'Unknown',inplace = True)"
   ]
  },
  {
   "cell_type": "code",
   "execution_count": 58,
   "id": "8c8ae478",
   "metadata": {},
   "outputs": [
    {
     "data": {
      "text/plain": [
       "0"
      ]
     },
     "execution_count": 58,
     "metadata": {},
     "output_type": "execute_result"
    }
   ],
   "source": [
    "application['OCCUPATION_TYPE'].isnull().sum()"
   ]
  },
  {
   "cell_type": "code",
   "execution_count": 59,
   "id": "f4e7c83a",
   "metadata": {
    "scrolled": true
   },
   "outputs": [
    {
     "name": "stdout",
     "output_type": "stream",
     "text": [
      "Percentage of defaulter Laborers :  24 %\n",
      "Percentage of defaulter Core staff :  7 %\n",
      "Percentage of defaulter Accountants :  2 %\n",
      "Percentage of defaulter Managers :  5 %\n",
      "Percentage of defaulter Unknown :  25 %\n",
      "Percentage of defaulter Drivers :  8 %\n",
      "Percentage of defaulter Sales staff :  12 %\n",
      "Percentage of defaulter Cleaning staff :  2 %\n",
      "Percentage of defaulter Cooking staff :  3 %\n",
      "Percentage of defaulter Private service staff :  1 %\n",
      "Percentage of defaulter Medicine staff :  2 %\n",
      "Percentage of defaulter Security staff :  3 %\n",
      "Percentage of defaulter High skill tech staff :  3 %\n",
      "Percentage of defaulter Waiters/barmen staff :  1 %\n",
      "Percentage of defaulter Low-skill Laborers :  1 %\n",
      "Percentage of defaulter Realty agents :  0 %\n",
      "Percentage of defaulter Secretaries :  0 %\n",
      "Percentage of defaulter IT staff :  0 %\n",
      "Percentage of defaulter HR staff :  0 %\n"
     ]
    }
   ],
   "source": [
    "a = pd.DataFrame(application['TARGET'])\n",
    "a['OC'] = pd.DataFrame(application['OCCUPATION_TYPE'])\n",
    "b2 = a[a['TARGET']==1]\n",
    "defaulterA = b2[b2['OC']== 'Laborers']\n",
    "defaulterB = b2[b2['OC']=='Core staff']\n",
    "defaulterC = b2[b2['OC']=='Accountants']\n",
    "defaulterD = b2[b2['OC']=='Managers']\n",
    "defaulterE = b2[b2['OC']=='Unknown']\n",
    "defaulterF = b2[b2['OC']=='Drivers']\n",
    "defaulterG = b2[b2['OC']== 'Sales staff']\n",
    "defaulterH = b2[b2['OC']=='Cleaning staff']\n",
    "defaulterI = b2[b2['OC']=='Cooking staff']\n",
    "defaulterJ = b2[b2['OC']=='Private service staff']\n",
    "defaulterK = b2[b2['OC']=='Medicine staff']\n",
    "defaulterL = b2[b2['OC']=='Security staff']\n",
    "defaulterM = b2[b2['OC']== 'High skill tech staff']\n",
    "defaulterN = b2[b2['OC']=='Waiters/barmen staff']\n",
    "defaulterO = b2[b2['OC']=='Low-skill Laborers']\n",
    "defaulterP = b2[b2['OC']=='Realty agents']\n",
    "defaulterQ = b2[b2['OC']=='Secretaries']\n",
    "defaulterR = b2[b2['OC']=='IT staff']\n",
    "defaulterS = b2[b2['OC']=='HR staff']\n",
    "\n",
    "\n",
    "\n",
    "print('Percentage of defaulter Laborers : ',round((len(defaulterA)/len(b2))*100),'%')\n",
    "print('Percentage of defaulter Core staff : ',round((len(defaulterB)/len(b2))*100),'%')\n",
    "print('Percentage of defaulter Accountants : ',round((len(defaulterC)/len(b2))*100),'%')\n",
    "print('Percentage of defaulter Managers : ',round((len(defaulterD)/len(b2))*100),'%')\n",
    "print('Percentage of defaulter Unknown : ',round((len(defaulterE)/len(b2))*100),'%')\n",
    "print('Percentage of defaulter Drivers : ',round((len(defaulterF)/len(b2))*100),'%')\n",
    "print('Percentage of defaulter Sales staff : ',round((len(defaulterG)/len(b2))*100),'%')\n",
    "print('Percentage of defaulter Cleaning staff : ',round((len(defaulterH)/len(b2))*100),'%')\n",
    "print('Percentage of defaulter Cooking staff : ',round((len(defaulterI)/len(b2))*100),'%')\n",
    "print('Percentage of defaulter Private service staff : ',round((len(defaulterJ)/len(b2))*100),'%')\n",
    "print('Percentage of defaulter Medicine staff : ',round((len(defaulterK)/len(b2))*100),'%')\n",
    "print('Percentage of defaulter Security staff : ',round((len(defaulterL)/len(b2))*100),'%')\n",
    "print('Percentage of defaulter High skill tech staff : ',round((len(defaulterM)/len(b2))*100),'%')\n",
    "print('Percentage of defaulter Waiters/barmen staff : ',round((len(defaulterN)/len(b2))*100),'%')\n",
    "print('Percentage of defaulter Low-skill Laborers : ',round((len(defaulterO)/len(b2))*100),'%')\n",
    "print('Percentage of defaulter Realty agents : ',round((len(defaulterP)/len(b2))*100),'%')\n",
    "print('Percentage of defaulter Secretaries : ',round((len(defaulterQ)/len(b2))*100),'%')\n",
    "print('Percentage of defaulter IT staff : ',round((len(defaulterR)/len(b2))*100),'%')\n",
    "print('Percentage of defaulter HR staff : ',round((len(defaulterS)/len(b2))*100),'%')"
   ]
  },
  {
   "cell_type": "markdown",
   "id": "970e5c6b",
   "metadata": {},
   "source": [
    "- Unknown category ranks first. people might have forgotton to  fill this part as all nan values are replaced by unknown.\n",
    "- laborers comes sencond most defaulter's category , might be due to delayed payment or less payment."
   ]
  },
  {
   "cell_type": "markdown",
   "id": "9a5c2f13",
   "metadata": {},
   "source": [
    "### Subtask 3.3.2 : Univariate numerical analysis"
   ]
  },
  {
   "cell_type": "code",
   "execution_count": 60,
   "id": "cba1c901",
   "metadata": {
    "scrolled": true
   },
   "outputs": [
    {
     "data": {
      "image/png": "[encoded data removed]",
      "text/plain": [
       "<Figure size 1440x720 with 6 Axes>"
      ]
     },
     "metadata": {
      "needs_background": "light"
     },
     "output_type": "display_data"
    }
   ],
   "source": [
    "plt.figure(figsize = (20,10))\n",
    "for i in enumerate(var_num):\n",
    "    plt.subplot(2,3,i[0]+1)\n",
    "    sns.distplot(defaulters[i[1]], hist=False,label =\"Defaulter\")\n",
    "    sns.distplot(repayers[i[1]], hist=False, label =\"Repayer\")\n",
    "    plt.title(i[1], fontdict={'fontsize' : 15, 'fontweight' : 5})\n",
    "    plt.legend()\n",
    "    #sns.distplot(i[1], hist=False ,data = application)"
   ]
  },
  {
   "cell_type": "markdown",
   "id": "a69032f3",
   "metadata": {},
   "source": [
    "- CNT_CHILDREN - Most of the data is distibuted between 0 to 3 children counts having most number of repayers.\n",
    "- Amount income total - Data ranges from 0 to more than 5L. mostly concentrated on range 0 to 1L.\n",
    "- Amount Credit - more number of defaulters within 1.15 to 1.75 density. \n",
    "- Amount Annuity -  Loan amount greater than 3.0 den and 0 to 50000 range have higher default rate than amount less than that.\n",
    "- Amount good price - Defaulter and repayers are evenly distributed. \n",
    "- CNT_Family members - people with 1 to 6 family members tend to take loan than family members greater than that.\n",
    "- The repayers and defaulters distribution overlap in all the plots and hence we cannot use any of these variables in isolation to make a decision"
   ]
  },
  {
   "cell_type": "markdown",
   "id": "89462680",
   "metadata": {},
   "source": [
    "### Subtask 3.3.3 : Segmented Analysis"
   ]
  },
  {
   "cell_type": "code",
   "execution_count": 61,
   "id": "17ceae02",
   "metadata": {},
   "outputs": [],
   "source": [
    "# SEPERATED ALL COLUMNS WITH FLAG NAME IN IT AND GAVE VARIABLE NAME AS FLAG."
   ]
  },
  {
   "cell_type": "code",
   "execution_count": 62,
   "id": "c9e82558",
   "metadata": {},
   "outputs": [],
   "source": [
    "flag = ['FLAG_OWN_CAR', 'FLAG_OWN_REALTY','FLAG_MOBIL','FLAG_EMP_PHONE', 'FLAG_WORK_PHONE', 'FLAG_CONT_MOBILE', 'FLAG_PHONE','FLAG_EMAIL','FLAG_DOCUMENT_2', 'FLAG_DOCUMENT_3',\n",
    "       'FLAG_DOCUMENT_4', 'FLAG_DOCUMENT_5', 'FLAG_DOCUMENT_6',\n",
    "       'FLAG_DOCUMENT_7', 'FLAG_DOCUMENT_8', 'FLAG_DOCUMENT_9',\n",
    "       'FLAG_DOCUMENT_10', 'FLAG_DOCUMENT_11', 'FLAG_DOCUMENT_12',\n",
    "       'FLAG_DOCUMENT_13', 'FLAG_DOCUMENT_14', 'FLAG_DOCUMENT_15',\n",
    "       'FLAG_DOCUMENT_16', 'FLAG_DOCUMENT_17', 'FLAG_DOCUMENT_18',\n",
    "       'FLAG_DOCUMENT_19', 'FLAG_DOCUMENT_20', 'FLAG_DOCUMENT_21',]"
   ]
  },
  {
   "cell_type": "code",
   "execution_count": 63,
   "id": "fdea1c58",
   "metadata": {
    "scrolled": false
   },
   "outputs": [
    {
     "data": {
      "image/png": "[encoded data removed]",
      "text/plain": [
       "<Figure size 1440x3600 with 28 Axes>"
      ]
     },
     "metadata": {
      "needs_background": "light"
     },
     "output_type": "display_data"
    }
   ],
   "source": [
    "plt.figure(figsize = (20,50))\n",
    "for i in enumerate(flag):\n",
    "    plt.subplot(10,3,i[0]+1)\n",
    "    sns.countplot(i[1], hue = 'TARGET' ,data = application)"
   ]
  },
  {
   "cell_type": "markdown",
   "id": "1aafec0f",
   "metadata": {},
   "source": [
    "- FLAG OWN CAR = People who dont have car default more than people who have.\n",
    "- FLAG OWN REALTY = People who own real estate defaults more than people who dont.\n",
    "- FLAG OWN EMP PHONE = People who own phone defaults more than people who dont.\n",
    "- FLAG OWN PHONE/ EMAIL = People who doesnt own phone or email defaults more than people who dont.\n",
    "- FLAG ALL DOCUMENTS - Many document are not submitted hence can not make a conclusion."
   ]
  },
  {
   "cell_type": "markdown",
   "id": "9129df19",
   "metadata": {},
   "source": [
    "### Subtask 3.3.4 : Bivariate Numerical Analysis"
   ]
  },
  {
   "cell_type": "code",
   "execution_count": 64,
   "id": "d36b5a20",
   "metadata": {},
   "outputs": [],
   "source": [
    "def bivariate(x,y,df,labels):\n",
    "    plt.figure(figsize = (10,10))\n",
    "    sns.set_style('white')\n",
    "    plt.figure(figsize=[15,15])\n",
    "    sns.relplot(x=x, y=y, data=df, hue=\"TARGET\",kind=\"line\",legend = False)\n",
    "    plt.legend(labels=labels)\n",
    "    plt.xticks(rotation=0, ha='right')\n",
    "    plt.show()"
   ]
  },
  {
   "cell_type": "code",
   "execution_count": 65,
   "id": "69959d52",
   "metadata": {
    "scrolled": true
   },
   "outputs": [
    {
     "data": {
      "text/plain": [
       "<Figure size 720x720 with 0 Axes>"
      ]
     },
     "metadata": {},
     "output_type": "display_data"
    },
    {
     "data": {
      "text/plain": [
       "<Figure size 1080x1080 with 0 Axes>"
      ]
     },
     "metadata": {},
     "output_type": "display_data"
    },
    {
     "data": {
      "image/png": "[encoded data removed]",
      "text/plain": [
       "<Figure size 360x360 with 1 Axes>"
      ]
     },
     "metadata": {},
     "output_type": "display_data"
    }
   ],
   "source": [
    "bivariate('CNT_CHILDREN','AMT_INCOME_TOTAL',application,['Repayer','Defaulter'])"
   ]
  },
  {
   "cell_type": "markdown",
   "id": "a784abdb",
   "metadata": {},
   "source": [
    "- default rate between 7 to 13 chidren is more in income range 1L to 3L."
   ]
  },
  {
   "cell_type": "code",
   "execution_count": 66,
   "id": "4be48ff8",
   "metadata": {},
   "outputs": [
    {
     "data": {
      "text/plain": [
       "<Figure size 720x720 with 0 Axes>"
      ]
     },
     "metadata": {},
     "output_type": "display_data"
    },
    {
     "data": {
      "text/plain": [
       "<Figure size 1080x1080 with 0 Axes>"
      ]
     },
     "metadata": {},
     "output_type": "display_data"
    },
    {
     "data": {
      "image/png": "[encoded data removed]",
      "text/plain": [
       "<Figure size 360x360 with 1 Axes>"
      ]
     },
     "metadata": {},
     "output_type": "display_data"
    }
   ],
   "source": [
    "bivariate('CNT_CHILDREN','AMT_CREDIT',application,['Repayer','Defaulter'])"
   ]
  },
  {
   "cell_type": "markdown",
   "id": "04893852",
   "metadata": {},
   "source": [
    "- default rate between 10 to 13 chidren is more in credit range 0.6e6 and 1e6."
   ]
  },
  {
   "cell_type": "code",
   "execution_count": 67,
   "id": "f96979c4",
   "metadata": {
    "scrolled": false
   },
   "outputs": [
    {
     "data": {
      "text/plain": [
       "<Figure size 720x720 with 0 Axes>"
      ]
     },
     "metadata": {},
     "output_type": "display_data"
    },
    {
     "data": {
      "text/plain": [
       "<Figure size 1080x1080 with 0 Axes>"
      ]
     },
     "metadata": {},
     "output_type": "display_data"
    },
    {
     "data": {
      "image/png": "[encoded data removed]",
      "text/plain": [
       "<Figure size 360x360 with 1 Axes>"
      ]
     },
     "metadata": {},
     "output_type": "display_data"
    }
   ],
   "source": [
    "bivariate('AMT_INCOME_TOTAL','AMT_ANNUITY',application,['Repayer','Defaulter'])"
   ]
  },
  {
   "cell_type": "markdown",
   "id": "c4194882",
   "metadata": {},
   "source": [
    "- no repayer from income greater than 3000000 to 1200000."
   ]
  },
  {
   "cell_type": "code",
   "execution_count": 68,
   "id": "f2bd66f9",
   "metadata": {
    "scrolled": true
   },
   "outputs": [
    {
     "data": {
      "text/plain": [
       "<Figure size 720x720 with 0 Axes>"
      ]
     },
     "metadata": {},
     "output_type": "display_data"
    },
    {
     "data": {
      "text/plain": [
       "<Figure size 1080x1080 with 0 Axes>"
      ]
     },
     "metadata": {},
     "output_type": "display_data"
    },
    {
     "data": {
      "image/png": "[encoded data removed]",
      "text/plain": [
       "<Figure size 360x360 with 1 Axes>"
      ]
     },
     "metadata": {},
     "output_type": "display_data"
    }
   ],
   "source": [
    "bivariate('AMT_GOODS_PRICE','AMT_ANNUITY',application,['Repayer','Defaulter'])"
   ]
  },
  {
   "cell_type": "markdown",
   "id": "ff4ac0d5",
   "metadata": {},
   "source": [
    "- Loan Amount(AMT_CREDIT) and Goods price(AMT_GOODS_PRICE) are highly correlated as based on the lineplot where most of the data are consolidated in form of a line"
   ]
  },
  {
   "cell_type": "markdown",
   "id": "788fa56e",
   "metadata": {},
   "source": [
    "### Subtask 3.3.5 : Top 10 Correlation"
   ]
  },
  {
   "cell_type": "code",
   "execution_count": 69,
   "id": "f37ed309",
   "metadata": {
    "scrolled": true
   },
   "outputs": [
    {
     "data": {
      "text/html": [
       "<div>\n",
       "<style scoped>\n",
       "    .dataframe tbody tr th:only-of-type {\n",
       "        vertical-align: middle;\n",
       "    }\n",
       "\n",
       "    .dataframe tbody tr th {\n",
       "        vertical-align: top;\n",
       "    }\n",
       "\n",
       "    .dataframe thead th {\n",
       "        text-align: right;\n",
       "    }\n",
       "</style>\n",
       "<table border=\"1\" class=\"dataframe\">\n",
       "  <thead>\n",
       "    <tr style=\"text-align: right;\">\n",
       "      <th></th>\n",
       "      <th>col1</th>\n",
       "      <th>col2</th>\n",
       "      <th>Correlation</th>\n",
       "    </tr>\n",
       "  </thead>\n",
       "  <tbody>\n",
       "    <tr>\n",
       "      <th>802</th>\n",
       "      <td>FLAG_EMP_PHONE</td>\n",
       "      <td>DAYS_EMPLOYED</td>\n",
       "      <td>0.999758</td>\n",
       "    </tr>\n",
       "    <tr>\n",
       "      <th>1982</th>\n",
       "      <td>OBS_60_CNT_SOCIAL_CIRCLE</td>\n",
       "      <td>OBS_30_CNT_SOCIAL_CIRCLE</td>\n",
       "      <td>0.998508</td>\n",
       "    </tr>\n",
       "    <tr>\n",
       "      <th>370</th>\n",
       "      <td>AMT_GOODS_PRICE</td>\n",
       "      <td>AMT_CREDIT</td>\n",
       "      <td>0.987250</td>\n",
       "    </tr>\n",
       "    <tr>\n",
       "      <th>1239</th>\n",
       "      <td>REGION_RATING_CLIENT_W_CITY</td>\n",
       "      <td>REGION_RATING_CLIENT</td>\n",
       "      <td>0.950149</td>\n",
       "    </tr>\n",
       "    <tr>\n",
       "      <th>1100</th>\n",
       "      <td>CNT_FAM_MEMBERS</td>\n",
       "      <td>CNT_CHILDREN</td>\n",
       "      <td>0.878571</td>\n",
       "    </tr>\n",
       "    <tr>\n",
       "      <th>1487</th>\n",
       "      <td>LIVE_REGION_NOT_WORK_REGION</td>\n",
       "      <td>REG_REGION_NOT_WORK_REGION</td>\n",
       "      <td>0.861861</td>\n",
       "    </tr>\n",
       "    <tr>\n",
       "      <th>2044</th>\n",
       "      <td>DEF_60_CNT_SOCIAL_CIRCLE</td>\n",
       "      <td>DEF_30_CNT_SOCIAL_CIRCLE</td>\n",
       "      <td>0.859332</td>\n",
       "    </tr>\n",
       "    <tr>\n",
       "      <th>1673</th>\n",
       "      <td>LIVE_CITY_NOT_WORK_CITY</td>\n",
       "      <td>REG_CITY_NOT_WORK_CITY</td>\n",
       "      <td>0.830381</td>\n",
       "    </tr>\n",
       "    <tr>\n",
       "      <th>371</th>\n",
       "      <td>AMT_GOODS_PRICE</td>\n",
       "      <td>AMT_ANNUITY</td>\n",
       "      <td>0.776686</td>\n",
       "    </tr>\n",
       "    <tr>\n",
       "      <th>309</th>\n",
       "      <td>AMT_ANNUITY</td>\n",
       "      <td>AMT_CREDIT</td>\n",
       "      <td>0.771309</td>\n",
       "    </tr>\n",
       "  </tbody>\n",
       "</table>\n",
       "</div>"
      ],
      "text/plain": [
       "                             col1                        col2  Correlation\n",
       "802                FLAG_EMP_PHONE               DAYS_EMPLOYED     0.999758\n",
       "1982     OBS_60_CNT_SOCIAL_CIRCLE    OBS_30_CNT_SOCIAL_CIRCLE     0.998508\n",
       "370               AMT_GOODS_PRICE                  AMT_CREDIT     0.987250\n",
       "1239  REGION_RATING_CLIENT_W_CITY        REGION_RATING_CLIENT     0.950149\n",
       "1100              CNT_FAM_MEMBERS                CNT_CHILDREN     0.878571\n",
       "1487  LIVE_REGION_NOT_WORK_REGION  REG_REGION_NOT_WORK_REGION     0.861861\n",
       "2044     DEF_60_CNT_SOCIAL_CIRCLE    DEF_30_CNT_SOCIAL_CIRCLE     0.859332\n",
       "1673      LIVE_CITY_NOT_WORK_CITY      REG_CITY_NOT_WORK_CITY     0.830381\n",
       "371               AMT_GOODS_PRICE                 AMT_ANNUITY     0.776686\n",
       "309                   AMT_ANNUITY                  AMT_CREDIT     0.771309"
      ]
     },
     "execution_count": 69,
     "metadata": {},
     "output_type": "execute_result"
    }
   ],
   "source": [
    "# top 10 correlation for repayers column\n",
    "corr_repayer = repayers.corr()\n",
    "corr_df_repayer = corr_repayer.where(np.triu(np.ones(corr_repayer.shape),k=1).astype(np.bool)).unstack().reset_index()\n",
    "corr_df_repayer.columns =['col1','col2','Correlation']\n",
    "corr_df_repayer.dropna(subset = [\"Correlation\"], inplace = True)\n",
    "corr_df_repayer[\"Correlation\"]=corr_df_repayer[\"Correlation\"].abs() \n",
    "corr_df_repayer.sort_values(by='Correlation', ascending=False, inplace=True) \n",
    "corr_df_repayer.head(10)"
   ]
  },
  {
   "cell_type": "code",
   "execution_count": 70,
   "id": "afc2c618",
   "metadata": {},
   "outputs": [
    {
     "data": {
      "text/html": [
       "<div>\n",
       "<style scoped>\n",
       "    .dataframe tbody tr th:only-of-type {\n",
       "        vertical-align: middle;\n",
       "    }\n",
       "\n",
       "    .dataframe tbody tr th {\n",
       "        vertical-align: top;\n",
       "    }\n",
       "\n",
       "    .dataframe thead th {\n",
       "        text-align: right;\n",
       "    }\n",
       "</style>\n",
       "<table border=\"1\" class=\"dataframe\">\n",
       "  <thead>\n",
       "    <tr style=\"text-align: right;\">\n",
       "      <th></th>\n",
       "      <th>col1</th>\n",
       "      <th>col2</th>\n",
       "      <th>Correlation</th>\n",
       "    </tr>\n",
       "  </thead>\n",
       "  <tbody>\n",
       "    <tr>\n",
       "      <th>802</th>\n",
       "      <td>FLAG_EMP_PHONE</td>\n",
       "      <td>DAYS_EMPLOYED</td>\n",
       "      <td>0.999702</td>\n",
       "    </tr>\n",
       "    <tr>\n",
       "      <th>1982</th>\n",
       "      <td>OBS_60_CNT_SOCIAL_CIRCLE</td>\n",
       "      <td>OBS_30_CNT_SOCIAL_CIRCLE</td>\n",
       "      <td>0.998269</td>\n",
       "    </tr>\n",
       "    <tr>\n",
       "      <th>370</th>\n",
       "      <td>AMT_GOODS_PRICE</td>\n",
       "      <td>AMT_CREDIT</td>\n",
       "      <td>0.983103</td>\n",
       "    </tr>\n",
       "    <tr>\n",
       "      <th>1239</th>\n",
       "      <td>REGION_RATING_CLIENT_W_CITY</td>\n",
       "      <td>REGION_RATING_CLIENT</td>\n",
       "      <td>0.956637</td>\n",
       "    </tr>\n",
       "    <tr>\n",
       "      <th>1100</th>\n",
       "      <td>CNT_FAM_MEMBERS</td>\n",
       "      <td>CNT_CHILDREN</td>\n",
       "      <td>0.885484</td>\n",
       "    </tr>\n",
       "    <tr>\n",
       "      <th>2044</th>\n",
       "      <td>DEF_60_CNT_SOCIAL_CIRCLE</td>\n",
       "      <td>DEF_30_CNT_SOCIAL_CIRCLE</td>\n",
       "      <td>0.868994</td>\n",
       "    </tr>\n",
       "    <tr>\n",
       "      <th>1487</th>\n",
       "      <td>LIVE_REGION_NOT_WORK_REGION</td>\n",
       "      <td>REG_REGION_NOT_WORK_REGION</td>\n",
       "      <td>0.847885</td>\n",
       "    </tr>\n",
       "    <tr>\n",
       "      <th>1673</th>\n",
       "      <td>LIVE_CITY_NOT_WORK_CITY</td>\n",
       "      <td>REG_CITY_NOT_WORK_CITY</td>\n",
       "      <td>0.778540</td>\n",
       "    </tr>\n",
       "    <tr>\n",
       "      <th>371</th>\n",
       "      <td>AMT_GOODS_PRICE</td>\n",
       "      <td>AMT_ANNUITY</td>\n",
       "      <td>0.752699</td>\n",
       "    </tr>\n",
       "    <tr>\n",
       "      <th>309</th>\n",
       "      <td>AMT_ANNUITY</td>\n",
       "      <td>AMT_CREDIT</td>\n",
       "      <td>0.752195</td>\n",
       "    </tr>\n",
       "  </tbody>\n",
       "</table>\n",
       "</div>"
      ],
      "text/plain": [
       "                             col1                        col2  Correlation\n",
       "802                FLAG_EMP_PHONE               DAYS_EMPLOYED     0.999702\n",
       "1982     OBS_60_CNT_SOCIAL_CIRCLE    OBS_30_CNT_SOCIAL_CIRCLE     0.998269\n",
       "370               AMT_GOODS_PRICE                  AMT_CREDIT     0.983103\n",
       "1239  REGION_RATING_CLIENT_W_CITY        REGION_RATING_CLIENT     0.956637\n",
       "1100              CNT_FAM_MEMBERS                CNT_CHILDREN     0.885484\n",
       "2044     DEF_60_CNT_SOCIAL_CIRCLE    DEF_30_CNT_SOCIAL_CIRCLE     0.868994\n",
       "1487  LIVE_REGION_NOT_WORK_REGION  REG_REGION_NOT_WORK_REGION     0.847885\n",
       "1673      LIVE_CITY_NOT_WORK_CITY      REG_CITY_NOT_WORK_CITY     0.778540\n",
       "371               AMT_GOODS_PRICE                 AMT_ANNUITY     0.752699\n",
       "309                   AMT_ANNUITY                  AMT_CREDIT     0.752195"
      ]
     },
     "execution_count": 70,
     "metadata": {},
     "output_type": "execute_result"
    }
   ],
   "source": [
    "# top 10 correlation for defaulters column\n",
    "corr_repayer = defaulters.corr()\n",
    "corr_df_repayer = corr_repayer.where(np.triu(np.ones(corr_repayer.shape),k=1).astype(np.bool)).unstack().reset_index()\n",
    "corr_df_repayer.columns =['col1','col2','Correlation']\n",
    "corr_df_repayer.dropna(subset = [\"Correlation\"], inplace = True)\n",
    "corr_df_repayer[\"Correlation\"]=corr_df_repayer[\"Correlation\"].abs() \n",
    "corr_df_repayer.sort_values(by='Correlation', ascending=False, inplace=True) \n",
    "corr_df_repayer.head(10)"
   ]
  },
  {
   "cell_type": "markdown",
   "id": "d67eb71b",
   "metadata": {},
   "source": [
    "### Summary"
   ]
  },
  {
   "cell_type": "markdown",
   "id": "f50850ea",
   "metadata": {},
   "source": [
    "\n",
    "\n",
    "\n",
    "\n",
    "A. Decisive Factor whether an applicant will be Repayer:\n",
    "NAME_EDUCATION_TYPE: Academic degree has less defaults.\n",
    "NAME_INCOME_TYPE: Student and Businessmen have no defaults.\n",
    "AMT_INCOME_TOTAL:Applicant with Income more than 700,000 are less likely to default.\n",
    "CNT_CHILDREN: People with zero to two children tend to repay the loans.\n",
    "\n",
    "\n",
    "B. Decisive Factor whether an applicant will be Defaulter:\n",
    "CODE_GENDER: Men are at relatively higher default rate even when the counts are less ,still acommodates for 43% default rate. \n",
    "NAME_FAMILY_STATUS : People who have civil marriage or who are single default a lot.\n",
    "NAME_EDUCATION_TYPE: People with Secondary & Secondary education.\n",
    "OCCUPATION_TYPE: Avoid Low-skill Laborers, Drivers and Waiters/barmen staff, Security staff, Laborers and Cooking staff as their default rate is huge.\n",
    "CNT_CHILDREN & CNT_FAM_MEMBERS: Client who have children equal to or more than 9 default 100% and hence their applications are to be rejected.\n",
    "AMT_GOODS_PRICE: When the credit amount goes beyond 3lakhs, there is an increase in defaulters."
   ]
  }
 ],
 "metadata": {
  "kernelspec": {
   "display_name": "Python 3 (ipykernel)",
   "language": "python",
   "name": "python3"
  },
  "language_info": {
   "codemirror_mode": {
    "name": "ipython",
    "version": 3
   },
   "file_extension": ".py",
   "mimetype": "text/x-python",
   "name": "python",
   "nbconvert_exporter": "python",
   "pygments_lexer": "ipython3",
   "version": "3.9.7"
  }
 },
 "nbformat": 4,
 "nbformat_minor": 5
}
