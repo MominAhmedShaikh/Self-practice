{
 "cells": [
  {
   "cell_type": "markdown",
   "id": "09a95a0f",
   "metadata": {},
   "source": [
    "# Assignment 1 "
   ]
  },
  {
   "cell_type": "markdown",
   "id": "509a73b3",
   "metadata": {},
   "source": [
    "### Date : 02/08/2022"
   ]
  },
  {
   "cell_type": "markdown",
   "id": "2eb5d129",
   "metadata": {},
   "source": [
    "#### Q.1 : Write a Python program to get the Fibonacci series between 0 to 50\n",
    "Note : The Fibonacci Sequence is the series of numbers :\n",
    "\n",
    "0, 1, 1, 2, 3, 5, 8, 13, 21, ....\n",
    "\n",
    "Every next number is found by adding up the two numbers before it.\n",
    "\n",
    "Expected Output : 1 1 2 3 5 8 13 21 34"
   ]
  },
  {
   "cell_type": "code",
   "execution_count": 1,
   "id": "b9028a1a",
   "metadata": {},
   "outputs": [],
   "source": [
    "def fibonacci(n):\n",
    "    b = [0,1]\n",
    "    for i in range(n):\n",
    "        b.append(b[i+1]+b[i])\n",
    "    print(b,end = '')"
   ]
  },
  {
   "cell_type": "code",
   "execution_count": 2,
   "id": "5e6f8b48",
   "metadata": {
    "scrolled": true
   },
   "outputs": [
    {
     "name": "stdout",
     "output_type": "stream",
     "text": [
      "[0, 1, 1, 2, 3, 5, 8, 13, 21, 34, 55, 89, 144, 233, 377, 610, 987, 1597, 2584, 4181, 6765, 10946, 17711, 28657, 46368, 75025, 121393, 196418, 317811, 514229, 832040, 1346269, 2178309, 3524578, 5702887, 9227465, 14930352, 24157817, 39088169, 63245986, 102334155, 165580141, 267914296, 433494437, 701408733, 1134903170, 1836311903, 2971215073, 4807526976, 7778742049, 12586269025, 20365011074]"
     ]
    }
   ],
   "source": [
    "fibonacci(50)"
   ]
  },
  {
   "cell_type": "markdown",
   "id": "f54cbe60",
   "metadata": {},
   "source": [
    "#### Q.2 Write a Python program that accepts a word from the user and reverse it.\n",
    "\n",
    "\n",
    "\n",
    "Sample Test Case\n",
    "\n",
    "\n",
    "\n",
    "Input : Hello \n",
    "\n",
    "output: olleH"
   ]
  },
  {
   "cell_type": "code",
   "execution_count": 3,
   "id": "615da8e2",
   "metadata": {},
   "outputs": [],
   "source": [
    "def reverse_string(a):\n",
    "    if type(a) == str:\n",
    "        return a[::-1]\n",
    "    else:\n",
    "        print('{} is not a string'.format(a))"
   ]
  },
  {
   "cell_type": "code",
   "execution_count": 4,
   "id": "1fc83078",
   "metadata": {},
   "outputs": [
    {
     "data": {
      "text/plain": [
       "'nimom'"
      ]
     },
     "execution_count": 4,
     "metadata": {},
     "output_type": "execute_result"
    }
   ],
   "source": [
    "reverse_string('momin')"
   ]
  },
  {
   "cell_type": "markdown",
   "id": "187df396",
   "metadata": {},
   "source": [
    "#### Q.3 Write a Python program to count the number of even and odd numbers from a series of numbers.\n",
    "\n",
    "\n",
    "\n",
    "Sample numbers : numbers = (1, 2, 3, 4, 5, 6, 7, 8, 9) \n",
    "\n",
    "Expected Output :\n",
    "\n",
    "Number of even numbers : 5\n",
    "\n",
    "Number of odd numbers : 4"
   ]
  },
  {
   "cell_type": "code",
   "execution_count": 5,
   "id": "a23d2989",
   "metadata": {},
   "outputs": [
    {
     "name": "stdout",
     "output_type": "stream",
     "text": [
      "even numbers count : 3\n",
      "odd numbers count : 4\n"
     ]
    }
   ],
   "source": [
    "a = [1,2,3,4,5,6,7]\n",
    "even = []\n",
    "odd = []\n",
    "for i in a:\n",
    "    if i % 2 == 0:\n",
    "        even.append(i)\n",
    "    if i % 2 != 0:\n",
    "        odd.append(i)\n",
    "print('even numbers count : {}'.format(len(even)))\n",
    "print('odd numbers count : {}'.format(len(odd)))"
   ]
  }
 ],
 "metadata": {
  "kernelspec": {
   "display_name": "Python 3 (ipykernel)",
   "language": "python",
   "name": "python3"
  },
  "language_info": {
   "codemirror_mode": {
    "name": "ipython",
    "version": 3
   },
   "file_extension": ".py",
   "mimetype": "text/x-python",
   "name": "python",
   "nbconvert_exporter": "python",
   "pygments_lexer": "ipython3",
   "version": "3.9.7"
  }
 },
 "nbformat": 4,
 "nbformat_minor": 5
}
